{
  "nbformat": 4,
  "nbformat_minor": 0,
  "metadata": {
    "colab": {
      "provenance": []
    },
    "kernelspec": {
      "name": "python3",
      "display_name": "Python 3"
    },
    "language_info": {
      "name": "python"
    }
  },
  "cells": [
    {
      "cell_type": "markdown",
      "source": [
        "### DSC 210 Course Project\n",
        "# **Topic 10: Performance Analysis of Libraries and Tools on Linear Algebra Operations**\n",
        "\n",
        "#### **Group number:** 4\n",
        "#### **Group members:**\n",
        "\n",
        "*   Harshil Jain (A59017538)\n",
        "*   Sai Sree Harsha (A59020345)\n",
        "*   Aditya Mandke (A59020008)\n",
        "*   Omkar Bhope (A59016323)\n",
        "\n",
        "\n",
        "This notebook contains the code to analyse the performance of 4 different libraries (NumPy, PyTorch, TensorFlow and JAX) on 14 different linear algebra operation.\n",
        "\n",
        "In each of the following sections, we will consider a particular linear algebra operation. We will implement the operation using each of the 4 libraries, record the CPU execution time for different sizes of input matrices and compare performance by plotting the results.\n",
        "\n"
      ],
      "metadata": {
        "id": "Xund3pvWHYhX"
      }
    },
    {
      "cell_type": "code",
      "execution_count": 2,
      "metadata": {
        "id": "rERMqargHAYD"
      },
      "outputs": [],
      "source": [
        "# import all required libraries\n",
        "import jax\n",
        "import time\n",
        "import torch\n",
        "import scipy\n",
        "import numpy as np\n",
        "import pandas as pd\n",
        "import tensorflow as tf\n",
        "import jax.numpy as jnp\n",
        "\n",
        "import seaborn as sns\n",
        "import matplotlib.pyplot as plt\n",
        "%matplotlib inline"
      ]
    },
    {
      "cell_type": "code",
      "source": [
        "# set random seeds\n",
        "np.random.seed(42)\n",
        "torch.manual_seed(42)\n",
        "tf.random.set_seed(42)\n",
        "key = jax.random.PRNGKey(42)"
      ],
      "metadata": {
        "colab": {
          "base_uri": "https://localhost:8080/"
        },
        "id": "GtkKezRtOjOk",
        "outputId": "b57028f3-f954-4c98-e316-60d2619052b3"
      },
      "execution_count": 3,
      "outputs": [
        {
          "output_type": "stream",
          "name": "stderr",
          "text": [
            "WARNING:jax._src.lib.xla_bridge:No GPU/TPU found, falling back to CPU. (Set TF_CPP_MIN_LOG_LEVEL=0 and rerun for more info.)\n"
          ]
        }
      ]
    },
    {
      "cell_type": "markdown",
      "source": [
        "### Matrix-matrix product"
      ],
      "metadata": {
        "id": "zhc2Ig5JOPKC"
      }
    },
    {
      "cell_type": "code",
      "source": [
        "# NumPy\n",
        "numpy_times = []\n",
        "dims = [10, 50, 100, 300, 600, 1000, 2000, 3000, 4000, 5000]\n",
        "for k in dims:\n",
        "  a = np.random.rand(k, k)\n",
        "  b = np.random.rand(k, k)\n",
        "  st = time.process_time()\n",
        "  c = a@b\n",
        "  et = time.process_time()\n",
        "  res = et - st\n",
        "  numpy_times.append(res)\n",
        "  print('Execution time:', res, 'seconds')"
      ],
      "metadata": {
        "colab": {
          "base_uri": "https://localhost:8080/"
        },
        "id": "cvJ8tVmvOMXD",
        "outputId": "353d56f8-852e-402a-9858-c531d8e37711"
      },
      "execution_count": 3,
      "outputs": [
        {
          "output_type": "stream",
          "name": "stdout",
          "text": [
            "Execution time: 0.0006517659999989434 seconds\n",
            "Execution time: 0.00012038999999930411 seconds\n",
            "Execution time: 0.00606716500000104 seconds\n",
            "Execution time: 0.009105051999998892 seconds\n",
            "Execution time: 0.03227068800000055 seconds\n",
            "Execution time: 0.13488592499999896 seconds\n",
            "Execution time: 0.9700187599999985 seconds\n",
            "Execution time: 3.232478525000001 seconds\n",
            "Execution time: 7.425058961000001 seconds\n",
            "Execution time: 14.177116208999998 seconds\n"
          ]
        }
      ]
    },
    {
      "cell_type": "code",
      "source": [
        "# Torch\n",
        "torch_times = []\n",
        "dims = [10, 50, 100, 300, 600, 1000, 2000, 3000, 4000, 5000]\n",
        "for k in dims:\n",
        "  a = torch.rand((k, k))\n",
        "  b = torch.rand((k, k))\n",
        "  st = time.process_time()\n",
        "  c = torch.mm(a, b)\n",
        "  et = time.process_time()\n",
        "  res = et - st\n",
        "  torch_times.append(res)\n",
        "  print('Execution time:', res, 'seconds')"
      ],
      "metadata": {
        "colab": {
          "base_uri": "https://localhost:8080/"
        },
        "id": "WBvmATkwO-O2",
        "outputId": "b306d146-88c9-4713-f88a-20540bdda54d"
      },
      "execution_count": 4,
      "outputs": [
        {
          "output_type": "stream",
          "name": "stdout",
          "text": [
            "Execution time: 0.04738754099999909 seconds\n",
            "Execution time: 0.0001510799999948631 seconds\n",
            "Execution time: 0.01699954099999701 seconds\n",
            "Execution time: 0.0012461020000031908 seconds\n",
            "Execution time: 0.007152726999997583 seconds\n",
            "Execution time: 0.03720850500000239 seconds\n",
            "Execution time: 0.2578402170000018 seconds\n",
            "Execution time: 0.8203617599999973 seconds\n",
            "Execution time: 1.9550064800000015 seconds\n",
            "Execution time: 4.459409309999998 seconds\n"
          ]
        }
      ]
    },
    {
      "cell_type": "code",
      "source": [
        "# TF\n",
        "tf_times = []\n",
        "dims = [10, 50, 100, 300, 600, 1000, 2000, 3000, 4000, 5000]\n",
        "for k in dims:\n",
        "  a = tf.random.uniform((k, k))\n",
        "  b = tf.random.uniform((k, k))\n",
        "  st = time.process_time()\n",
        "  c = tf.matmul(a, b)\n",
        "  et = time.process_time()\n",
        "  res = et - st\n",
        "  tf_times.append(res)\n",
        "  print('Execution time:', res, 'seconds')"
      ],
      "metadata": {
        "colab": {
          "base_uri": "https://localhost:8080/"
        },
        "id": "pm11JjREPbbr",
        "outputId": "c01c7c90-a31e-4b34-f5a7-71f8cbd7bcd1"
      },
      "execution_count": 10,
      "outputs": [
        {
          "output_type": "stream",
          "name": "stdout",
          "text": [
            "Execution time: 0.00024249500000905755 seconds\n",
            "Execution time: 0.00028354600000568553 seconds\n",
            "Execution time: 0.00029309299999624727 seconds\n",
            "Execution time: 0.0018831139999946345 seconds\n",
            "Execution time: 0.014674537999994186 seconds\n",
            "Execution time: 0.0692092740000021 seconds\n",
            "Execution time: 0.4913289859999992 seconds\n",
            "Execution time: 1.5831067390000015 seconds\n",
            "Execution time: 3.7605708429999964 seconds\n",
            "Execution time: 7.312215641000009 seconds\n"
          ]
        }
      ]
    },
    {
      "cell_type": "code",
      "source": [
        "#JAX\n",
        "jax_times = []\n",
        "dims = [10, 50, 100, 300, 600, 1000, 2000, 3000, 4000, 5000]\n",
        "for k in dims:\n",
        "  a = jax.random.uniform(key=key, shape=(k, k))\n",
        "  b = jax.random.uniform(key=key, shape=(k, k))\n",
        "  st = time.process_time()\n",
        "  c = jnp.dot(a, b).block_until_ready()\n",
        "  et = time.process_time()\n",
        "  res = et - st\n",
        "  jax_times.append(res)\n",
        "  print('Execution time:', res, 'seconds')"
      ],
      "metadata": {
        "colab": {
          "base_uri": "https://localhost:8080/"
        },
        "id": "scMro7T9PfBT",
        "outputId": "b2ba4b4f-eefe-4132-fe16-3a2a44f8eac8"
      },
      "execution_count": 8,
      "outputs": [
        {
          "output_type": "stream",
          "name": "stdout",
          "text": [
            "Execution time: 7.353400000909005e-05 seconds\n",
            "Execution time: 0.00010311999999146337 seconds\n",
            "Execution time: 0.00019287300000314644 seconds\n",
            "Execution time: 0.00227813200000071 seconds\n",
            "Execution time: 0.013889958999996566 seconds\n",
            "Execution time: 0.059920012000006295 seconds\n",
            "Execution time: 0.49082805700000165 seconds\n",
            "Execution time: 1.5630122940000035 seconds\n",
            "Execution time: 3.747395264000005 seconds\n",
            "Execution time: 7.452143849999999 seconds\n"
          ]
        }
      ]
    },
    {
      "cell_type": "code",
      "source": [
        "# Plotting graph\n",
        "sns.set_theme()\n",
        "times_data = pd.DataFrame({\"Dim\":dims, \"NumPy\":numpy_times, \"PyTorch\":torch_times, \"TensorFlow\":tf_times, \"JAX\":jax_times})\n",
        "sns.lineplot(data=times_data, x=\"Dim\", y=\"NumPy\", label=\"NumPy\")\n",
        "sns.lineplot(data=times_data, x=\"Dim\", y=\"PyTorch\", label=\"PyTorch\")\n",
        "sns.lineplot(data=times_data, x=\"Dim\", y=\"TensorFlow\", label=\"TensorFlow\")\n",
        "sns.lineplot(data=times_data, x=\"Dim\", y=\"JAX\", label=\"Jax\")\n",
        "plt.xlabel('Matrix Dimension')\n",
        "plt.ylabel('Execution Time')\n",
        "plt.title('Matrix-matrix product (CPU)')\n",
        "plt.legend()\n",
        "plt.show()"
      ],
      "metadata": {
        "colab": {
          "base_uri": "https://localhost:8080/",
          "height": 301
        },
        "id": "Z9T8AZZSPhVW",
        "outputId": "7a713b59-d37c-465c-e909-d1922da1fb9f"
      },
      "execution_count": 11,
      "outputs": [
        {
          "output_type": "display_data",
          "data": {
            "text/plain": [
              "<Figure size 432x288 with 1 Axes>"
            ],
            "image/png": "[encoded data removed]"
          },
          "metadata": {}
        }
      ]
    },
    {
      "cell_type": "markdown",
      "source": [
        "### Matrix-vector product"
      ],
      "metadata": {
        "id": "411m9PLGQ_VC"
      }
    },
    {
      "cell_type": "code",
      "source": [
        "# NumPy\n",
        "numpy_times = []\n",
        "dims = [10, 50, 100, 300, 600, 1000, 2000, 3000, 4000, 5000]\n",
        "for k in dims:\n",
        "  a = np.random.rand(k, k)\n",
        "  b = np.random.rand(k, 1)\n",
        "  st = time.process_time()\n",
        "  c = a@b\n",
        "  et = time.process_time()\n",
        "  res = et - st\n",
        "  numpy_times.append(res)\n",
        "  print('Execution time:', res, 'seconds')"
      ],
      "metadata": {
        "colab": {
          "base_uri": "https://localhost:8080/"
        },
        "id": "5MXXDOgURCXP",
        "outputId": "27723e56-6fef-4773-8b2e-b0831d6395df"
      },
      "execution_count": 77,
      "outputs": [
        {
          "output_type": "stream",
          "name": "stdout",
          "text": [
            "Execution time: 3.991799999880641e-05 seconds\n",
            "Execution time: 9.005999999089909e-06 seconds\n",
            "Execution time: 0.004068754999991597 seconds\n",
            "Execution time: 0.0018110710000200925 seconds\n",
            "Execution time: 0.0014348759999904814 seconds\n",
            "Execution time: 0.0013938220000113688 seconds\n",
            "Execution time: 0.005299944000000778 seconds\n",
            "Execution time: 0.01186552400000096 seconds\n",
            "Execution time: 0.01932193600001142 seconds\n",
            "Execution time: 0.03247947700000964 seconds\n"
          ]
        }
      ]
    },
    {
      "cell_type": "code",
      "source": [
        "# Torch\n",
        "torch_times = []\n",
        "dims = [10, 50, 100, 300, 600, 1000, 2000, 3000, 4000, 5000]\n",
        "for k in dims:\n",
        "  a = torch.rand((k, k))\n",
        "  b = torch.rand((k, 1))\n",
        "  st = time.process_time()\n",
        "  c = torch.mm(a, b)\n",
        "  et = time.process_time()\n",
        "  res = et - st\n",
        "  torch_times.append(res)\n",
        "  print('Execution time:', res, 'seconds')"
      ],
      "metadata": {
        "colab": {
          "base_uri": "https://localhost:8080/"
        },
        "id": "go2uk6SORh4r",
        "outputId": "7961cb51-a736-4c42-f750-acf2cc3216e2"
      },
      "execution_count": 78,
      "outputs": [
        {
          "output_type": "stream",
          "name": "stdout",
          "text": [
            "Execution time: 7.627400000842499e-05 seconds\n",
            "Execution time: 6.443899999908353e-05 seconds\n",
            "Execution time: 5.3484999995134785e-05 seconds\n",
            "Execution time: 0.00014396099999203216 seconds\n",
            "Execution time: 0.00026528000000780594 seconds\n",
            "Execution time: 0.0005048350000151913 seconds\n",
            "Execution time: 0.0015377420000106667 seconds\n",
            "Execution time: 0.003222068000013678 seconds\n",
            "Execution time: 0.008134291000004623 seconds\n",
            "Execution time: 0.010860414000006813 seconds\n"
          ]
        }
      ]
    },
    {
      "cell_type": "code",
      "source": [
        "# TF\n",
        "tf_times = []\n",
        "dims = [10, 50, 100, 300, 600, 1000, 2000, 3000, 4000, 5000]\n",
        "for k in dims:\n",
        "  a = tf.random.uniform((k, k))\n",
        "  b = tf.random.uniform((k, 1))\n",
        "  st = time.process_time()\n",
        "  c = tf.matmul(a, b)\n",
        "  et = time.process_time()\n",
        "  res = et - st\n",
        "  tf_times.append(res)\n",
        "  print('Execution time:', res, 'seconds')"
      ],
      "metadata": {
        "colab": {
          "base_uri": "https://localhost:8080/"
        },
        "id": "U-xxVeRqRiff",
        "outputId": "28e67389-5f67-401f-848a-04b1e4b7d897"
      },
      "execution_count": 79,
      "outputs": [
        {
          "output_type": "stream",
          "name": "stdout",
          "text": [
            "Execution time: 0.0003096499999912794 seconds\n",
            "Execution time: 0.0001177759999961836 seconds\n",
            "Execution time: 0.012394808999999896 seconds\n",
            "Execution time: 0.00020045800002321812 seconds\n",
            "Execution time: 0.0003343019999988428 seconds\n",
            "Execution time: 0.000646627000008948 seconds\n",
            "Execution time: 0.002211891000001742 seconds\n",
            "Execution time: 0.00547629799999072 seconds\n",
            "Execution time: 0.007982169000001704 seconds\n",
            "Execution time: 0.011612218999999868 seconds\n"
          ]
        }
      ]
    },
    {
      "cell_type": "code",
      "source": [
        "#JAX\n",
        "jax_times = []\n",
        "dims = [10, 50, 100, 300, 600, 1000, 2000, 3000, 4000, 5000]\n",
        "for k in dims:\n",
        "  a = jax.random.uniform(key=key, shape=(k, k))\n",
        "  b = jax.random.uniform(key=key, shape=(k, 1))\n",
        "  st = time.process_time()\n",
        "  c = jnp.dot(a, b).block_until_ready()\n",
        "  et = time.process_time()\n",
        "  res = et - st\n",
        "  jax_times.append(res)\n",
        "  print('Execution time:', res, 'seconds')"
      ],
      "metadata": {
        "colab": {
          "base_uri": "https://localhost:8080/"
        },
        "id": "dSgxDnw_RiwX",
        "outputId": "74c01174-3f67-487a-cbdf-5f20546aba1c"
      },
      "execution_count": 80,
      "outputs": [
        {
          "output_type": "stream",
          "name": "stdout",
          "text": [
            "Execution time: 4.036300001075688e-05 seconds\n",
            "Execution time: 3.336500000727938e-05 seconds\n",
            "Execution time: 4.756100000236074e-05 seconds\n",
            "Execution time: 9.890300000847674e-05 seconds\n",
            "Execution time: 0.0002032019999944623 seconds\n",
            "Execution time: 0.00038988599999356666 seconds\n",
            "Execution time: 0.0014833130000226902 seconds\n",
            "Execution time: 0.004974220999997669 seconds\n",
            "Execution time: 0.005412086000006866 seconds\n",
            "Execution time: 0.008382698999980676 seconds\n"
          ]
        }
      ]
    },
    {
      "cell_type": "code",
      "source": [
        "# Plotting graph\n",
        "sns.set_theme()\n",
        "times_data = pd.DataFrame({\"Dim\":dims, \"NumPy\":numpy_times, \"PyTorch\":torch_times, \"TensorFlow\":tf_times, \"JAX\":jax_times})\n",
        "sns.lineplot(data=times_data, x=\"Dim\", y=\"NumPy\", label=\"NumPy\")\n",
        "sns.lineplot(data=times_data, x=\"Dim\", y=\"PyTorch\", label=\"PyTorch\")\n",
        "sns.lineplot(data=times_data, x=\"Dim\", y=\"TensorFlow\", label=\"TensorFlow\")\n",
        "sns.lineplot(data=times_data, x=\"Dim\", y=\"JAX\", label=\"Jax\")\n",
        "plt.xlabel('Matrix Dimension')\n",
        "plt.ylabel('Execution Time')\n",
        "plt.title('Matrix-vector product (CPU)')\n",
        "plt.legend()\n",
        "plt.show()"
      ],
      "metadata": {
        "colab": {
          "base_uri": "https://localhost:8080/",
          "height": 301
        },
        "id": "lCU9h4dzRjBH",
        "outputId": "064001fc-35f6-429e-d1db-492492c3391b"
      },
      "execution_count": 81,
      "outputs": [
        {
          "output_type": "display_data",
          "data": {
            "text/plain": [
              "<Figure size 432x288 with 1 Axes>"
            ],
            "image/png": "[encoded data removed]"
          },
          "metadata": {}
        }
      ]
    },
    {
      "cell_type": "markdown",
      "source": [
        "### Vector-vector product"
      ],
      "metadata": {
        "id": "bH0_JHDhSWND"
      }
    },
    {
      "cell_type": "code",
      "source": [
        "# NumPy\n",
        "numpy_times = []\n",
        "dims = [10, 50, 100, 300, 600, 1000, 2000, 3000, 4000, 5000]\n",
        "for k in dims:\n",
        "  a = np.random.rand(1, k)\n",
        "  b = np.random.rand(k, 1)\n",
        "  st = time.process_time()\n",
        "  c = a@b\n",
        "  et = time.process_time()\n",
        "  res = et - st\n",
        "  numpy_times.append(res)\n",
        "  print('Execution time:', res, 'seconds')"
      ],
      "metadata": {
        "colab": {
          "base_uri": "https://localhost:8080/"
        },
        "id": "0GXPRjfiSw77",
        "outputId": "a4d819ca-2867-4065-dd17-12733f2a6c72"
      },
      "execution_count": 92,
      "outputs": [
        {
          "output_type": "stream",
          "name": "stdout",
          "text": [
            "Execution time: 0.0002331979999894429 seconds\n",
            "Execution time: 5.750299999363051e-05 seconds\n",
            "Execution time: 4.739600001357758e-05 seconds\n",
            "Execution time: 1.601599998934944e-05 seconds\n",
            "Execution time: 7.007000021985732e-06 seconds\n",
            "Execution time: 6.0589999861804245e-06 seconds\n",
            "Execution time: 5.914000013262921e-06 seconds\n",
            "Execution time: 6.546000008711417e-06 seconds\n",
            "Execution time: 1.1970000002747838e-05 seconds\n",
            "Execution time: 7.08999999687876e-06 seconds\n"
          ]
        }
      ]
    },
    {
      "cell_type": "code",
      "source": [
        "# Torch\n",
        "torch_times = []\n",
        "dims = [10, 50, 100, 300, 600, 1000, 2000, 3000, 4000, 5000]\n",
        "for k in dims:\n",
        "  a = torch.rand((1, k))\n",
        "  b = torch.rand((k, 1))\n",
        "  st = time.process_time()\n",
        "  c = torch.mm(a, b)\n",
        "  et = time.process_time()\n",
        "  res = et - st\n",
        "  torch_times.append(res)\n",
        "  print('Execution time:', res, 'seconds')"
      ],
      "metadata": {
        "colab": {
          "base_uri": "https://localhost:8080/"
        },
        "id": "co0430j6SxOC",
        "outputId": "076da0bc-6ae3-416f-f033-5d3ffa5e125d"
      },
      "execution_count": 88,
      "outputs": [
        {
          "output_type": "stream",
          "name": "stdout",
          "text": [
            "Execution time: 8.504199999492812e-05 seconds\n",
            "Execution time: 5.099800000607502e-05 seconds\n",
            "Execution time: 3.4725000006119444e-05 seconds\n",
            "Execution time: 2.2596999997404055e-05 seconds\n",
            "Execution time: 1.0841999994681828e-05 seconds\n",
            "Execution time: 1.0803000009218522e-05 seconds\n",
            "Execution time: 1.5793999978086504e-05 seconds\n",
            "Execution time: 1.767999998492087e-05 seconds\n",
            "Execution time: 2.136999998469946e-05 seconds\n",
            "Execution time: 2.5445999995099555e-05 seconds\n"
          ]
        }
      ]
    },
    {
      "cell_type": "code",
      "source": [
        "# TF\n",
        "tf_times = []\n",
        "dims = [10, 50, 100, 300, 600, 1000, 2000, 3000, 4000, 5000]\n",
        "for k in dims:\n",
        "  a = tf.random.uniform((1, k))\n",
        "  b = tf.random.uniform((k, 1))\n",
        "  st = time.process_time()\n",
        "  c = tf.matmul(a, b)\n",
        "  et = time.process_time()\n",
        "  res = et - st\n",
        "  tf_times.append(res)\n",
        "  print('Execution time:', res, 'seconds')"
      ],
      "metadata": {
        "colab": {
          "base_uri": "https://localhost:8080/"
        },
        "id": "dFN-WfepSxgz",
        "outputId": "820e0533-40c8-4cb1-e1aa-5c035f9cc783"
      },
      "execution_count": 89,
      "outputs": [
        {
          "output_type": "stream",
          "name": "stdout",
          "text": [
            "Execution time: 0.00018854799998280214 seconds\n",
            "Execution time: 0.00019590900001276168 seconds\n",
            "Execution time: 0.00011618400000656948 seconds\n",
            "Execution time: 0.0001055040000039753 seconds\n",
            "Execution time: 0.00012006700001165882 seconds\n",
            "Execution time: 8.516900001609429e-05 seconds\n",
            "Execution time: 7.925099998828955e-05 seconds\n",
            "Execution time: 8.685099999183876e-05 seconds\n",
            "Execution time: 8.09900000149355e-05 seconds\n",
            "Execution time: 7.706200000257013e-05 seconds\n"
          ]
        }
      ]
    },
    {
      "cell_type": "code",
      "source": [
        "#JAX\n",
        "jax_times = []\n",
        "dims = [10, 50, 100, 300, 600, 1000, 2000, 3000, 4000, 5000]\n",
        "for k in dims:\n",
        "  a = jax.random.uniform(key=key, shape=(1, k))\n",
        "  b = jax.random.uniform(key=key, shape=(k, 1))\n",
        "  st = time.process_time()\n",
        "  c = jnp.dot(a, b).block_until_ready()\n",
        "  et = time.process_time()\n",
        "  res = et - st\n",
        "  jax_times.append(res)\n",
        "  print('Execution time:', res, 'seconds')"
      ],
      "metadata": {
        "colab": {
          "base_uri": "https://localhost:8080/"
        },
        "id": "57jC-reVSxzN",
        "outputId": "0fc265d1-aceb-45d4-ef7b-17b08bb2890c"
      },
      "execution_count": 90,
      "outputs": [
        {
          "output_type": "stream",
          "name": "stdout",
          "text": [
            "Execution time: 4.546899998558729e-05 seconds\n",
            "Execution time: 3.885500001388209e-05 seconds\n",
            "Execution time: 3.810700002304657e-05 seconds\n",
            "Execution time: 3.430500001400105e-05 seconds\n",
            "Execution time: 3.0336000008901465e-05 seconds\n",
            "Execution time: 4.4470000005958354e-05 seconds\n",
            "Execution time: 3.3950000016602644e-05 seconds\n",
            "Execution time: 3.511399998501474e-05 seconds\n",
            "Execution time: 3.730899999254689e-05 seconds\n",
            "Execution time: 4.010099999618433e-05 seconds\n"
          ]
        }
      ]
    },
    {
      "cell_type": "code",
      "source": [
        "# Plotting graph\n",
        "sns.set_theme()\n",
        "times_data = pd.DataFrame({\"Dim\":dims, \"NumPy\":numpy_times, \"PyTorch\":torch_times, \"TensorFlow\":tf_times, \"JAX\":jax_times})\n",
        "times_data = times_data.iloc[5:, :]\n",
        "sns.lineplot(data=times_data, x=\"Dim\", y=\"NumPy\", label=\"NumPy\")\n",
        "sns.lineplot(data=times_data, x=\"Dim\", y=\"PyTorch\", label=\"PyTorch\")\n",
        "sns.lineplot(data=times_data, x=\"Dim\", y=\"TensorFlow\", label=\"TensorFlow\")\n",
        "sns.lineplot(data=times_data, x=\"Dim\", y=\"JAX\", label=\"Jax\")\n",
        "plt.xlabel('Matrix Dimension')\n",
        "plt.ylabel('Execution Time')\n",
        "plt.title('Vector-vector product (CPU)')\n",
        "plt.legend()\n",
        "plt.show()"
      ],
      "metadata": {
        "colab": {
          "base_uri": "https://localhost:8080/",
          "height": 301
        },
        "id": "QcroNtsLSyEV",
        "outputId": "e01cdb28-27c2-4a56-bc56-b6b92c106abb"
      },
      "execution_count": 98,
      "outputs": [
        {
          "output_type": "display_data",
          "data": {
            "text/plain": [
              "<Figure size 432x288 with 1 Axes>"
            ],
            "image/png": "[encoded data removed]"
          },
          "metadata": {}
        }
      ]
    },
    {
      "cell_type": "markdown",
      "source": [
        "### Trace"
      ],
      "metadata": {
        "id": "o7h9EK7dVH1g"
      }
    },
    {
      "cell_type": "code",
      "source": [
        "#NumPy\n",
        "dims = [10, 50, 100, 300, 600, 1000, 2000, 3000, 4000, 5000]\n",
        "numpy_times = []\n",
        "for k in dims:\n",
        "  matrix = np.random.rand(k, k)     \n",
        "  st = time.process_time()   \n",
        "  trace_np = matrix.trace()\n",
        "  et = time.process_time()\n",
        "  res = et - st\n",
        "  numpy_times.append(res)\n",
        "  print('Execution time:', res, 'seconds')"
      ],
      "metadata": {
        "colab": {
          "base_uri": "https://localhost:8080/"
        },
        "id": "DQh6HqCFVQqJ",
        "outputId": "38896964-0cca-4868-e9eb-eaff34a10f12"
      },
      "execution_count": 4,
      "outputs": [
        {
          "output_type": "stream",
          "name": "stdout",
          "text": [
            "Execution time: 0.0001606009999992608 seconds\n",
            "Execution time: 8.924299999968355e-05 seconds\n",
            "Execution time: 0.00024671900000150515 seconds\n",
            "Execution time: 6.63379999998881e-05 seconds\n",
            "Execution time: 6.962299999990762e-05 seconds\n",
            "Execution time: 0.00010133999999872856 seconds\n",
            "Execution time: 9.061399999943376e-05 seconds\n",
            "Execution time: 9.951499999871771e-05 seconds\n",
            "Execution time: 0.00017397000000052287 seconds\n",
            "Execution time: 0.0001399079999995223 seconds\n"
          ]
        }
      ]
    },
    {
      "cell_type": "code",
      "source": [
        "# TF\n",
        "dims = [10, 50, 100, 300, 600, 1000, 2000, 3000, 4000, 5000]\n",
        "tf_times = []\n",
        "for k in dims:\n",
        "  matrix = tf.random.uniform((k,k))\n",
        "  st = time.process_time()   \n",
        "  trace_tf = tf.linalg.trace(matrix)\n",
        "  et = time.process_time()\n",
        "  res = et - st\n",
        "  tf_times.append(res)\n",
        "  print('Execution time:', res, 'seconds')"
      ],
      "metadata": {
        "colab": {
          "base_uri": "https://localhost:8080/"
        },
        "id": "ur78d4X_XLB0",
        "outputId": "2d74ee84-ff45-4d7a-f206-c2ebdbf58867"
      },
      "execution_count": 5,
      "outputs": [
        {
          "output_type": "stream",
          "name": "stdout",
          "text": [
            "Execution time: 0.002639413000000701 seconds\n",
            "Execution time: 0.0005948050000004201 seconds\n",
            "Execution time: 0.0005034620000010648 seconds\n",
            "Execution time: 0.0005313940000011286 seconds\n",
            "Execution time: 0.0008595240000008886 seconds\n",
            "Execution time: 0.0007510200000009348 seconds\n",
            "Execution time: 0.000809908000000803 seconds\n",
            "Execution time: 0.0007580810000007432 seconds\n",
            "Execution time: 0.0007982690000005732 seconds\n",
            "Execution time: 0.0015921179999995871 seconds\n"
          ]
        }
      ]
    },
    {
      "cell_type": "code",
      "source": [
        "# PyTorch\n",
        "dims = [10, 50, 100, 300, 600, 1000, 2000, 3000, 4000, 5000]\n",
        "torch_times = []\n",
        "for k in dims:\n",
        "  matrix = torch.rand(k, k)\n",
        "  st = time.process_time()   \n",
        "  trace_torch = torch.trace(matrix) #.item()\n",
        "  et = time.process_time()\n",
        "  res = et - st\n",
        "  torch_times.append(res)\n",
        "  print('Execution time:', res, 'seconds')"
      ],
      "metadata": {
        "colab": {
          "base_uri": "https://localhost:8080/"
        },
        "id": "p6KgBwN_XLQZ",
        "outputId": "b538f1cd-a54d-45a4-a2b8-234008ef9aad"
      },
      "execution_count": 6,
      "outputs": [
        {
          "output_type": "stream",
          "name": "stdout",
          "text": [
            "Execution time: 0.000621732999999125 seconds\n",
            "Execution time: 6.863700000003803e-05 seconds\n",
            "Execution time: 0.0006209489999999818 seconds\n",
            "Execution time: 4.118300000044428e-05 seconds\n",
            "Execution time: 9.26360000015336e-05 seconds\n",
            "Execution time: 0.00010041600000043616 seconds\n",
            "Execution time: 0.00012609000000018966 seconds\n",
            "Execution time: 0.00012789700000048754 seconds\n",
            "Execution time: 0.00011169799999954932 seconds\n",
            "Execution time: 0.00010636200000035956 seconds\n"
          ]
        }
      ]
    },
    {
      "cell_type": "code",
      "source": [
        "# JAX\n",
        "dims = [10, 50, 100, 300, 600, 1000, 2000, 3000, 4000, 5000]\n",
        "jax_times = []\n",
        "for k in dims:\n",
        "  matrix = jax.random.uniform(key=key, shape=(k,k))\n",
        "  st = time.process_time()   \n",
        "  trace_jax = jnp.trace(matrix).block_until_ready()\n",
        "  et = time.process_time()\n",
        "  res = et - st\n",
        "  jax_times.append(res)\n",
        "  print('Execution time:', res, 'seconds')"
      ],
      "metadata": {
        "colab": {
          "base_uri": "https://localhost:8080/"
        },
        "id": "Z3BoQRfgXLeP",
        "outputId": "938c6f00-7d1a-454d-e997-81f8d763684c"
      },
      "execution_count": 10,
      "outputs": [
        {
          "output_type": "stream",
          "name": "stdout",
          "text": [
            "Execution time: 7.967199999825425e-05 seconds\n",
            "Execution time: 7.711499999984994e-05 seconds\n",
            "Execution time: 7.620300000255043e-05 seconds\n",
            "Execution time: 0.000600069000000758 seconds\n",
            "Execution time: 0.0009511809999978027 seconds\n",
            "Execution time: 0.002444735000000975 seconds\n",
            "Execution time: 0.010987473999996666 seconds\n",
            "Execution time: 0.02940589700000018 seconds\n",
            "Execution time: 0.02256307000000035 seconds\n",
            "Execution time: 0.05822960499999752 seconds\n"
          ]
        }
      ]
    },
    {
      "cell_type": "code",
      "source": [
        "# Plotting graph\n",
        "sns.set_theme()\n",
        "times_data = pd.DataFrame({\"Dim\":dims, \"NumPy\":numpy_times, \"PyTorch\":torch_times, \"TensorFlow\":tf_times, \"JAX\":jax_times})\n",
        "sns.lineplot(data=times_data, x=\"Dim\", y=\"NumPy\", label=\"NumPy\")\n",
        "sns.lineplot(data=times_data, x=\"Dim\", y=\"PyTorch\", label=\"PyTorch\")\n",
        "sns.lineplot(data=times_data, x=\"Dim\", y=\"TensorFlow\", label=\"TensorFlow\")\n",
        "sns.lineplot(data=times_data, x=\"Dim\", y=\"JAX\", label=\"Jax\")\n",
        "plt.xlabel('Matrix Dimension')\n",
        "plt.ylabel('Execution Time')\n",
        "plt.title('Trace (CPU)')\n",
        "plt.legend()\n",
        "plt.show()"
      ],
      "metadata": {
        "colab": {
          "base_uri": "https://localhost:8080/",
          "height": 301
        },
        "id": "mRVskwh4XLvB",
        "outputId": "2bfca3aa-2d7b-4850-ceb8-dadfbe9de7f8"
      },
      "execution_count": 11,
      "outputs": [
        {
          "output_type": "display_data",
          "data": {
            "text/plain": [
              "<Figure size 432x288 with 1 Axes>"
            ],
            "image/png": "[encoded data removed]"
          },
          "metadata": {}
        }
      ]
    },
    {
      "cell_type": "markdown",
      "source": [
        "### Transpose"
      ],
      "metadata": {
        "id": "skVtEIo1acEi"
      }
    },
    {
      "cell_type": "code",
      "source": [
        "# NumPy\n",
        "dims = [10, 50, 100, 300, 600, 1000, 2000, 3000, 4000, 5000]\n",
        "numpy_times = []\n",
        "for k in dims:\n",
        "  matrix = np.random.rand(k, k)   \n",
        "  st = time.process_time()    \n",
        "  trace_matrix = matrix.transpose()\n",
        "  et = time.process_time()\n",
        "  res = et - st\n",
        "  numpy_times.append(res)\n",
        "  print('Execution time:', res, 'seconds')"
      ],
      "metadata": {
        "colab": {
          "base_uri": "https://localhost:8080/"
        },
        "id": "DZrb7b0DalLq",
        "outputId": "ce11f9b3-c7b2-43f2-bc2c-410bd13b3b75"
      },
      "execution_count": 13,
      "outputs": [
        {
          "output_type": "stream",
          "name": "stdout",
          "text": [
            "Execution time: 1.5477999998125824e-05 seconds\n",
            "Execution time: 5.158000000449192e-06 seconds\n",
            "Execution time: 4.24399999943148e-06 seconds\n",
            "Execution time: 2.4407000001502865e-05 seconds\n",
            "Execution time: 5.225499999994554e-05 seconds\n",
            "Execution time: 6.701999999947361e-05 seconds\n",
            "Execution time: 2.5458999999727894e-05 seconds\n",
            "Execution time: 2.3879000000448514e-05 seconds\n",
            "Execution time: 2.2581999999715663e-05 seconds\n",
            "Execution time: 2.5558000000813763e-05 seconds\n"
          ]
        }
      ]
    },
    {
      "cell_type": "code",
      "source": [
        "# PyTorch\n",
        "dims = [10, 50, 100, 300, 600, 1000, 2000, 3000, 4000, 5000]\n",
        "torch_times = []\n",
        "for k in dims:\n",
        "  matrix = torch.rand(k, k)\n",
        "  st = time.process_time()   \n",
        "  transpose_torch = torch.transpose(matrix,0,1)\n",
        "  et = time.process_time()\n",
        "  res = et - st\n",
        "  torch_times.append(res)\n",
        "  print('Execution time:', res, 'seconds')"
      ],
      "metadata": {
        "colab": {
          "base_uri": "https://localhost:8080/"
        },
        "id": "T5neWelealeP",
        "outputId": "9ffcc5be-6170-426a-b295-a1c1b6bd4d79"
      },
      "execution_count": 14,
      "outputs": [
        {
          "output_type": "stream",
          "name": "stdout",
          "text": [
            "Execution time: 0.0021205689999987953 seconds\n",
            "Execution time: 6.348899999863988e-05 seconds\n",
            "Execution time: 2.2295000000838172e-05 seconds\n",
            "Execution time: 0.0012219850000008137 seconds\n",
            "Execution time: 0.000959374000000679 seconds\n",
            "Execution time: 0.00016554400000146074 seconds\n",
            "Execution time: 0.0001237150000008569 seconds\n",
            "Execution time: 6.828699999772425e-05 seconds\n",
            "Execution time: 6.475800000060872e-05 seconds\n",
            "Execution time: 6.56289999980686e-05 seconds\n"
          ]
        }
      ]
    },
    {
      "cell_type": "code",
      "source": [
        "# TF\n",
        "dims = [10, 50, 100, 300, 600, 1000, 2000, 3000, 4000, 5000]\n",
        "tf_times = []\n",
        "for k in dims:\n",
        "  matrix = tf.random.uniform((k,k))\n",
        "  st = time.process_time()    \n",
        "  tranpose_matrix = tf.linalg.matrix_transpose(matrix)\n",
        "  et = time.process_time()\n",
        "  res = et - st\n",
        "  tf_times.append(res)\n",
        "  print('Execution time:', res, 'seconds')"
      ],
      "metadata": {
        "colab": {
          "base_uri": "https://localhost:8080/"
        },
        "id": "JvJ8GKH-altZ",
        "outputId": "b2bd865f-a50e-4d35-e387-a2a05e5a2849"
      },
      "execution_count": 15,
      "outputs": [
        {
          "output_type": "stream",
          "name": "stdout",
          "text": [
            "Execution time: 0.0019901319999995337 seconds\n",
            "Execution time: 0.001529636000000778 seconds\n",
            "Execution time: 0.0017088620000009769 seconds\n",
            "Execution time: 0.0015883949999988545 seconds\n",
            "Execution time: 0.0029303139999967698 seconds\n",
            "Execution time: 0.005588743999997092 seconds\n",
            "Execution time: 0.018073361999999094 seconds\n",
            "Execution time: 0.03982510200000178 seconds\n",
            "Execution time: 0.10112314699999914 seconds\n",
            "Execution time: 0.1469100730000008 seconds\n"
          ]
        }
      ]
    },
    {
      "cell_type": "code",
      "source": [
        "# JAX\n",
        "dims = [10, 50, 100, 300, 600, 1000, 2000, 3000, 4000, 5000]\n",
        "jax_times = []\n",
        "for k in dims:\n",
        "  matrix = jax.random.uniform(key=key, shape=(k,k))\n",
        "  st = time.process_time()   \n",
        "  transpose_jax = jnp.transpose(matrix).block_until_ready()\n",
        "  et = time.process_time()\n",
        "  res = et - st\n",
        "  jax_times.append(res)\n",
        "  print('Execution time:', res, 'seconds')"
      ],
      "metadata": {
        "colab": {
          "base_uri": "https://localhost:8080/"
        },
        "id": "HCFk1jnHal7D",
        "outputId": "0694bdda-4a57-4e1a-c3c6-b7b60f0e1688"
      },
      "execution_count": 17,
      "outputs": [
        {
          "output_type": "stream",
          "name": "stdout",
          "text": [
            "Execution time: 0.0005942859999983341 seconds\n",
            "Execution time: 0.0003021740000015427 seconds\n",
            "Execution time: 0.0003467079999985856 seconds\n",
            "Execution time: 0.000566226000000114 seconds\n",
            "Execution time: 0.0011525880000000654 seconds\n",
            "Execution time: 0.002508334999998141 seconds\n",
            "Execution time: 0.00921480499999916 seconds\n",
            "Execution time: 0.1309764109999989 seconds\n",
            "Execution time: 0.2273744630000003 seconds\n",
            "Execution time: 0.38078629300000344 seconds\n"
          ]
        }
      ]
    },
    {
      "cell_type": "code",
      "source": [
        "# Plotting graph\n",
        "sns.set_theme()\n",
        "times_data = pd.DataFrame({\"Dim\":dims, \"NumPy\":numpy_times, \"PyTorch\":torch_times, \"TensorFlow\":tf_times, \"JAX\":jax_times})\n",
        "sns.lineplot(data=times_data, x=\"Dim\", y=\"NumPy\", label=\"NumPy\")\n",
        "sns.lineplot(data=times_data, x=\"Dim\", y=\"PyTorch\", label=\"PyTorch\")\n",
        "sns.lineplot(data=times_data, x=\"Dim\", y=\"TensorFlow\", label=\"TensorFlow\")\n",
        "sns.lineplot(data=times_data, x=\"Dim\", y=\"JAX\", label=\"Jax\")\n",
        "plt.xlabel('Matrix Dimension')\n",
        "plt.ylabel('Execution Time')\n",
        "plt.title('Transpose (CPU)')\n",
        "plt.legend()\n",
        "plt.show()"
      ],
      "metadata": {
        "colab": {
          "base_uri": "https://localhost:8080/",
          "height": 301
        },
        "id": "XgYirbWQamM_",
        "outputId": "86379ed1-3e9e-456b-a84b-bee07702e3e8"
      },
      "execution_count": 18,
      "outputs": [
        {
          "output_type": "display_data",
          "data": {
            "text/plain": [
              "<Figure size 432x288 with 1 Axes>"
            ],
            "image/png": "[encoded data removed]"
          },
          "metadata": {}
        }
      ]
    },
    {
      "cell_type": "markdown",
      "source": [
        "### Determinant"
      ],
      "metadata": {
        "id": "clWn86fVcXFA"
      }
    },
    {
      "cell_type": "code",
      "source": [
        "# NumPy\n",
        "numpy_times = []\n",
        "dims = [10, 50, 100, 300, 600, 1000, 2000, 3000, 4000, 5000]\n",
        "for k in dims:\n",
        "  a = np.random.rand(k, k)\n",
        "  st = time.process_time()\n",
        "  np.linalg.det(a)\n",
        "  et = time.process_time()\n",
        "  res = et - st\n",
        "  numpy_times.append(res)\n",
        "  print('Execution time:', res, 'seconds')"
      ],
      "metadata": {
        "colab": {
          "base_uri": "https://localhost:8080/"
        },
        "id": "9CSXp-q7cZBf",
        "outputId": "cea80ff7-9e52-483c-ab1f-94000d54b604"
      },
      "execution_count": 157,
      "outputs": [
        {
          "output_type": "stream",
          "name": "stdout",
          "text": [
            "Execution time: 0.0005078610000168737 seconds\n",
            "Execution time: 0.0007265890000098807 seconds\n",
            "Execution time: 0.0024857299999894167 seconds\n",
            "Execution time: 0.005637712999998712 seconds\n",
            "Execution time: 0.03609358300002441 seconds\n",
            "Execution time: 0.09500889000003099 seconds\n"
          ]
        },
        {
          "output_type": "stream",
          "name": "stderr",
          "text": [
            "/usr/local/lib/python3.8/dist-packages/numpy/linalg/linalg.py:2158: RuntimeWarning: overflow encountered in det\n",
            "  r = _umath_linalg.det(a, signature=signature)\n"
          ]
        },
        {
          "output_type": "stream",
          "name": "stdout",
          "text": [
            "Execution time: 0.5971468079999909 seconds\n",
            "Execution time: 1.5675699139999892 seconds\n",
            "Execution time: 3.260510217999979 seconds\n",
            "Execution time: 5.977898641000024 seconds\n"
          ]
        }
      ]
    },
    {
      "cell_type": "code",
      "source": [
        "# PyTorch\n",
        "torch_times = []\n",
        "dims = [10, 50, 100, 300, 600, 1000, 2000, 3000, 4000, 5000]\n",
        "for k in dims:\n",
        "  a = torch.rand((k, k))\n",
        "  st = time.process_time()\n",
        "  torch.linalg.det(a)\n",
        "  et = time.process_time()\n",
        "  res = et - st\n",
        "  torch_times.append(res)\n",
        "  print('Execution time:', res, 'seconds')"
      ],
      "metadata": {
        "colab": {
          "base_uri": "https://localhost:8080/"
        },
        "id": "SlzzU7DzcZUS",
        "outputId": "ac244b9b-2a7d-4490-9bf2-5cf1dd739e62"
      },
      "execution_count": 158,
      "outputs": [
        {
          "output_type": "stream",
          "name": "stdout",
          "text": [
            "Execution time: 0.008666155000014442 seconds\n",
            "Execution time: 0.0025576660000297124 seconds\n",
            "Execution time: 0.00039928600000394 seconds\n",
            "Execution time: 0.004293228999983967 seconds\n",
            "Execution time: 0.007781993000037346 seconds\n",
            "Execution time: 0.0262816299999713 seconds\n",
            "Execution time: 0.2013084770000546 seconds\n",
            "Execution time: 0.5046733519999975 seconds\n",
            "Execution time: 1.0041748830000188 seconds\n",
            "Execution time: 1.8313441480000279 seconds\n"
          ]
        }
      ]
    },
    {
      "cell_type": "code",
      "source": [
        "# TF\n",
        "tf_times = []\n",
        "dims = [10, 50, 100, 300, 600, 1000, 2000, 3000, 4000, 5000]\n",
        "for k in dims:\n",
        "  a = tf.random.uniform((k, k))\n",
        "  st = time.process_time()\n",
        "  tf.linalg.det(a, name = None)\n",
        "  et = time.process_time()\n",
        "  res = et - st\n",
        "  tf_times.append(res)\n",
        "  print('Execution time:', res, 'seconds')"
      ],
      "metadata": {
        "colab": {
          "base_uri": "https://localhost:8080/"
        },
        "id": "7vT5VPFJcZhq",
        "outputId": "6215c96b-4cc1-4b88-e782-8403bfd052b1"
      },
      "execution_count": 159,
      "outputs": [
        {
          "output_type": "stream",
          "name": "stdout",
          "text": [
            "Execution time: 0.000962730000026113 seconds\n",
            "Execution time: 0.0005676109999512846 seconds\n",
            "Execution time: 0.0003208620000236806 seconds\n",
            "Execution time: 0.0017895949999910954 seconds\n",
            "Execution time: 0.009264341999994485 seconds\n",
            "Execution time: 0.03691219700004922 seconds\n",
            "Execution time: 0.4171505510000202 seconds\n",
            "Execution time: 1.0127615449999894 seconds\n",
            "Execution time: 2.1359977039999762 seconds\n",
            "Execution time: 3.885977048999962 seconds\n"
          ]
        }
      ]
    },
    {
      "cell_type": "code",
      "source": [
        "# JAX\n",
        "jax_times = []\n",
        "dims = [10, 50, 100, 300, 600, 1000, 2000, 3000, 4000, 5000]\n",
        "for k in dims:\n",
        "  a = jax.random.uniform(key=key, shape=(k, k))\n",
        "  st = time.process_time()\n",
        "  c = jnp.linalg.det(a).block_until_ready()\n",
        "  et = time.process_time()\n",
        "  res = et - st\n",
        "  jax_times.append(res)\n",
        "  print('Execution time:', res, 'seconds')"
      ],
      "metadata": {
        "colab": {
          "base_uri": "https://localhost:8080/"
        },
        "id": "-38zVCBMcZsA",
        "outputId": "a17a8eda-aa08-4741-b23b-5a0a041ef857"
      },
      "execution_count": 160,
      "outputs": [
        {
          "output_type": "stream",
          "name": "stdout",
          "text": [
            "Execution time: 0.16937077300002557 seconds\n",
            "Execution time: 0.1736116769999967 seconds\n",
            "Execution time: 0.24663395800001808 seconds\n",
            "Execution time: 0.3223944279999955 seconds\n",
            "Execution time: 0.3899352650000196 seconds\n",
            "Execution time: 0.3978973739999674 seconds\n",
            "Execution time: 0.5593234600000301 seconds\n",
            "Execution time: 1.1054115219999971 seconds\n",
            "Execution time: 2.18811688400001 seconds\n",
            "Execution time: 4.05946425999997 seconds\n"
          ]
        }
      ]
    },
    {
      "cell_type": "code",
      "source": [
        "# Plotting graph\n",
        "sns.set_theme()\n",
        "times_data = pd.DataFrame({\"Dim\":dims, \"NumPy\":numpy_times, \"PyTorch\":torch_times, \"TensorFlow\":tf_times, \"JAX\":jax_times})\n",
        "sns.lineplot(data=times_data, x=\"Dim\", y=\"NumPy\", label=\"NumPy\")\n",
        "sns.lineplot(data=times_data, x=\"Dim\", y=\"PyTorch\", label=\"PyTorch\")\n",
        "sns.lineplot(data=times_data, x=\"Dim\", y=\"TensorFlow\", label=\"TensorFlow\")\n",
        "sns.lineplot(data=times_data, x=\"Dim\", y=\"JAX\", label=\"Jax\")\n",
        "plt.xlabel('Matrix Dimension')\n",
        "plt.ylabel('Execution Time')\n",
        "plt.title('Determinant (CPU)')\n",
        "plt.legend()\n",
        "plt.show()"
      ],
      "metadata": {
        "colab": {
          "base_uri": "https://localhost:8080/",
          "height": 301
        },
        "id": "9_1Sem46caAw",
        "outputId": "aa0c350a-3220-49e9-ee7a-6b6c0f0e8ec3"
      },
      "execution_count": 161,
      "outputs": [
        {
          "output_type": "display_data",
          "data": {
            "text/plain": [
              "<Figure size 432x288 with 1 Axes>"
            ],
            "image/png": "[encoded data removed]"
          },
          "metadata": {}
        }
      ]
    },
    {
      "cell_type": "markdown",
      "source": [
        "### Inverse"
      ],
      "metadata": {
        "id": "adFfhehcfQt2"
      }
    },
    {
      "cell_type": "code",
      "source": [
        "# NumPy\n",
        "numpy_times = []\n",
        "dims = [10, 50, 100, 300, 600, 1000, 2000, 3000, 4000, 5000]\n",
        "for k in dims:\n",
        "  a = np.random.rand(k, k)\n",
        "  st = time.process_time()\n",
        "  np.linalg.inv(a)\n",
        "  et = time.process_time()\n",
        "  res = et - st\n",
        "  numpy_times.append(res)\n",
        "  print('Execution time:', res, 'seconds')"
      ],
      "metadata": {
        "colab": {
          "base_uri": "https://localhost:8080/"
        },
        "id": "2KakspBCffhK",
        "outputId": "0f423985-c3d3-4c51-b3b5-c90103685392"
      },
      "execution_count": 162,
      "outputs": [
        {
          "output_type": "stream",
          "name": "stdout",
          "text": [
            "Execution time: 0.0041600389999985055 seconds\n",
            "Execution time: 0.0022702989999743295 seconds\n",
            "Execution time: 0.001320372000009229 seconds\n",
            "Execution time: 0.017182561000026908 seconds\n",
            "Execution time: 0.07139041400000679 seconds\n",
            "Execution time: 0.2617766749999646 seconds\n",
            "Execution time: 1.6999418290000108 seconds\n",
            "Execution time: 5.074030514000015 seconds\n",
            "Execution time: 11.450540862000025 seconds\n",
            "Execution time: 21.996720202999995 seconds\n"
          ]
        }
      ]
    },
    {
      "cell_type": "code",
      "source": [
        "# PyTorch\n",
        "torch_times = []\n",
        "dims = [10, 50, 100, 300, 600, 1000, 2000, 3000, 4000, 5000]\n",
        "for k in dims:\n",
        "  a = torch.rand((k, k))\n",
        "  st = time.process_time()\n",
        "  torch.linalg.inv(a)\n",
        "  et = time.process_time()\n",
        "  res = et - st\n",
        "  torch_times.append(res)\n",
        "  print('Execution time:', res, 'seconds')"
      ],
      "metadata": {
        "colab": {
          "base_uri": "https://localhost:8080/"
        },
        "id": "bqWEL_3Xff2m",
        "outputId": "0d63f28f-7ac8-4126-8654-b2ebb2897216"
      },
      "execution_count": 163,
      "outputs": [
        {
          "output_type": "stream",
          "name": "stdout",
          "text": [
            "Execution time: 0.0020265580000113914 seconds\n",
            "Execution time: 0.0011003760000107832 seconds\n",
            "Execution time: 0.0011628130000076453 seconds\n",
            "Execution time: 0.0030382649999864952 seconds\n",
            "Execution time: 0.01732160199998134 seconds\n",
            "Execution time: 0.07775888899999472 seconds\n",
            "Execution time: 0.4735808239999528 seconds\n",
            "Execution time: 1.5235621589999937 seconds\n",
            "Execution time: 3.288317180999968 seconds\n",
            "Execution time: 6.504106345000025 seconds\n"
          ]
        }
      ]
    },
    {
      "cell_type": "code",
      "source": [
        "# TF\n",
        "tf_times = []\n",
        "dims = [10, 50, 100, 300, 600, 1000, 2000, 3000, 4000, 5000]\n",
        "for k in dims:\n",
        "  a = tf.random.uniform((k, k))\n",
        "  st = time.process_time()\n",
        "  tf.linalg.inv(a, adjoint=False, name=None)\n",
        "  et = time.process_time()\n",
        "  res = et - st\n",
        "  tf_times.append(res)\n",
        "  print('Execution time:', res, 'seconds')"
      ],
      "metadata": {
        "colab": {
          "base_uri": "https://localhost:8080/"
        },
        "id": "AGprORJgfgE_",
        "outputId": "062446e9-5372-4dae-cda5-6519292c94aa"
      },
      "execution_count": 164,
      "outputs": [
        {
          "output_type": "stream",
          "name": "stdout",
          "text": [
            "Execution time: 0.0007318950000012592 seconds\n",
            "Execution time: 0.00029978300000266245 seconds\n",
            "Execution time: 0.0007231829999909678 seconds\n",
            "Execution time: 0.007400409000013042 seconds\n",
            "Execution time: 0.04193060400001514 seconds\n",
            "Execution time: 0.1707855669999958 seconds\n",
            "Execution time: 1.161883161999981 seconds\n",
            "Execution time: 3.368750433999992 seconds\n",
            "Execution time: 6.833227010999963 seconds\n",
            "Execution time: 11.852797919000011 seconds\n"
          ]
        }
      ]
    },
    {
      "cell_type": "code",
      "source": [
        "# JAX\n",
        "jax_times = []\n",
        "dims = [10, 50, 100, 300, 600, 1000, 2000, 3000, 4000, 5000]\n",
        "for k in dims:\n",
        "  a = jax.random.uniform(key=key, shape=(k, k))\n",
        "  st = time.process_time()\n",
        "  jnp.linalg.inv(a).block_until_ready()\n",
        "  et = time.process_time()\n",
        "  res = et - st\n",
        "  jax_times.append(res)\n",
        "  print('Execution time:', res, 'seconds')"
      ],
      "metadata": {
        "colab": {
          "base_uri": "https://localhost:8080/"
        },
        "id": "Poj0F1QufgR6",
        "outputId": "11c472cf-60c8-4275-c6eb-61a969201c53"
      },
      "execution_count": 165,
      "outputs": [
        {
          "output_type": "stream",
          "name": "stdout",
          "text": [
            "Execution time: 0.1478845999999976 seconds\n",
            "Execution time: 0.17021692600002325 seconds\n",
            "Execution time: 0.27978573799998685 seconds\n",
            "Execution time: 0.3357668660000286 seconds\n",
            "Execution time: 0.365547179000032 seconds\n",
            "Execution time: 0.45693857100002333 seconds\n",
            "Execution time: 1.2041135989999816 seconds\n",
            "Execution time: 2.8368903080000223 seconds\n",
            "Execution time: 6.398646743000029 seconds\n",
            "Execution time: 11.371349113000008 seconds\n"
          ]
        }
      ]
    },
    {
      "cell_type": "code",
      "source": [
        "# Plotting graph\n",
        "sns.set_theme()\n",
        "times_data = pd.DataFrame({\"Dim\":dims, \"NumPy\":numpy_times, \"PyTorch\":torch_times, \"TensorFlow\":tf_times, \"JAX\":jax_times})\n",
        "sns.lineplot(data=times_data, x=\"Dim\", y=\"NumPy\", label=\"NumPy\")\n",
        "sns.lineplot(data=times_data, x=\"Dim\", y=\"PyTorch\", label=\"PyTorch\")\n",
        "sns.lineplot(data=times_data, x=\"Dim\", y=\"TensorFlow\", label=\"TensorFlow\")\n",
        "sns.lineplot(data=times_data, x=\"Dim\", y=\"JAX\", label=\"Jax\")\n",
        "plt.xlabel('Matrix Dimension')\n",
        "plt.ylabel('Execution Time')\n",
        "plt.title('Inverse (CPU)')\n",
        "plt.legend()\n",
        "plt.show()"
      ],
      "metadata": {
        "colab": {
          "base_uri": "https://localhost:8080/",
          "height": 301
        },
        "id": "J8eNtFO0fghd",
        "outputId": "f9889065-2fca-4911-b999-e0391c8cbb01"
      },
      "execution_count": 166,
      "outputs": [
        {
          "output_type": "display_data",
          "data": {
            "text/plain": [
              "<Figure size 432x288 with 1 Axes>"
            ],
            "image/png": "[encoded data removed]"
          },
          "metadata": {}
        }
      ]
    },
    {
      "cell_type": "markdown",
      "source": [
        "### Adjoint"
      ],
      "metadata": {
        "id": "NSept3xpghT-"
      }
    },
    {
      "cell_type": "code",
      "source": [
        "# NumPy\n",
        "numpy_times = []\n",
        "dims = [10, 50, 100, 300, 600, 1000, 2000, 3000, 4000, 5000]\n",
        "for k in dims:\n",
        "  a = np.random.rand(k, k)\n",
        "  st = time.process_time()\n",
        "  np.conj(a).T\n",
        "  et = time.process_time()\n",
        "  res = et - st\n",
        "  numpy_times.append(res)\n",
        "  print('Execution time:', res, 'seconds')"
      ],
      "metadata": {
        "colab": {
          "base_uri": "https://localhost:8080/"
        },
        "id": "cAsQivYLg098",
        "outputId": "05c22651-5a3f-4a29-907c-002c144c8856"
      },
      "execution_count": 167,
      "outputs": [
        {
          "output_type": "stream",
          "name": "stdout",
          "text": [
            "Execution time: 0.00010778199998640048 seconds\n",
            "Execution time: 2.2553999997398932e-05 seconds\n",
            "Execution time: 3.3583999993425095e-05 seconds\n",
            "Execution time: 0.0005380690000151844 seconds\n",
            "Execution time: 0.0012864440000157629 seconds\n",
            "Execution time: 0.0026159199999824523 seconds\n",
            "Execution time: 0.01095240299997613 seconds\n",
            "Execution time: 0.020942027999979018 seconds\n",
            "Execution time: 0.05441392400001632 seconds\n",
            "Execution time: 0.06721667599998682 seconds\n"
          ]
        }
      ]
    },
    {
      "cell_type": "code",
      "source": [
        "# PyTorch\n",
        "torch_times = []\n",
        "dims = [10, 50, 100, 300, 600, 1000, 2000, 3000, 4000, 5000]\n",
        "for k in dims:\n",
        "  a = torch.rand((k, k))\n",
        "  st = time.process_time()\n",
        "  a.adjoint()\n",
        "  et = time.process_time()\n",
        "  res = et - st\n",
        "  torch_times.append(res)\n",
        "  print('Execution time:', res, 'seconds')"
      ],
      "metadata": {
        "colab": {
          "base_uri": "https://localhost:8080/"
        },
        "id": "l2wWvAnRg1VN",
        "outputId": "fb87dfdb-db5a-4a67-affc-ad3a266ea20a"
      },
      "execution_count": 168,
      "outputs": [
        {
          "output_type": "stream",
          "name": "stdout",
          "text": [
            "Execution time: 0.00038018300000430827 seconds\n",
            "Execution time: 4.341400000384965e-05 seconds\n",
            "Execution time: 3.73420000414626e-05 seconds\n",
            "Execution time: 2.3633000012068806e-05 seconds\n",
            "Execution time: 5.924900000309208e-05 seconds\n",
            "Execution time: 4.843199997139891e-05 seconds\n",
            "Execution time: 5.243999999038351e-05 seconds\n",
            "Execution time: 5.374900001697824e-05 seconds\n",
            "Execution time: 5.70099999777085e-05 seconds\n",
            "Execution time: 5.6381000035798934e-05 seconds\n"
          ]
        }
      ]
    },
    {
      "cell_type": "code",
      "source": [
        "# TF\n",
        "tf_times = []\n",
        "dims = [10, 50, 100, 300, 600, 1000, 2000, 3000, 4000, 5000]\n",
        "for k in dims:\n",
        "  a = tf.random.uniform((k, k))\n",
        "  st = time.process_time()\n",
        "  tf.linalg.adjoint(a)\n",
        "  et = time.process_time()\n",
        "  res = et - st\n",
        "  tf_times.append(res)\n",
        "  print('Execution time:', res, 'seconds')"
      ],
      "metadata": {
        "colab": {
          "base_uri": "https://localhost:8080/"
        },
        "id": "xNRiDIYOg1lA",
        "outputId": "c272ceb7-3b39-4724-dcd9-081111e74415"
      },
      "execution_count": 169,
      "outputs": [
        {
          "output_type": "stream",
          "name": "stdout",
          "text": [
            "Execution time: 0.0014493069999730324 seconds\n",
            "Execution time: 0.000535178999996333 seconds\n",
            "Execution time: 0.0009916029999885723 seconds\n",
            "Execution time: 0.0013426570000092397 seconds\n",
            "Execution time: 0.0022639869999920847 seconds\n",
            "Execution time: 0.00582729500001733 seconds\n",
            "Execution time: 0.022940926999979183 seconds\n",
            "Execution time: 0.05318207599998459 seconds\n",
            "Execution time: 0.08514752299998918 seconds\n",
            "Execution time: 0.123859723999999 seconds\n"
          ]
        }
      ]
    },
    {
      "cell_type": "code",
      "source": [
        "# JAX\n",
        "jax_times = []\n",
        "dims = [10, 50, 100, 300, 600, 1000, 2000, 3000, 4000, 5000]\n",
        "for k in dims:\n",
        "  a = jax.random.uniform(key=key, shape=(k, k))\n",
        "  st = time.process_time()\n",
        "  x = jnp.conjugate(a).block_until_ready()\n",
        "  jnp.transpose(x, axes=None).block_until_ready()\n",
        "  et = time.process_time()\n",
        "  res = et - st\n",
        "  jax_times.append(res)\n",
        "  print('Execution time:', res, 'seconds')"
      ],
      "metadata": {
        "colab": {
          "base_uri": "https://localhost:8080/"
        },
        "id": "NRIkhM6-g18q",
        "outputId": "7b10d2d7-a985-487d-b9a4-eb9513a453d6"
      },
      "execution_count": 175,
      "outputs": [
        {
          "output_type": "stream",
          "name": "stdout",
          "text": [
            "Execution time: 0.00045258300002615215 seconds\n",
            "Execution time: 0.00045283399998652385 seconds\n",
            "Execution time: 0.0006628159999877425 seconds\n",
            "Execution time: 0.0007585540000150104 seconds\n",
            "Execution time: 0.001673082000024806 seconds\n",
            "Execution time: 0.0035755200000266996 seconds\n",
            "Execution time: 0.05117003499998418 seconds\n",
            "Execution time: 0.16213188699998682 seconds\n",
            "Execution time: 0.40364319000002524 seconds\n",
            "Execution time: 0.21759424199996147 seconds\n"
          ]
        }
      ]
    },
    {
      "cell_type": "code",
      "source": [
        "# Plotting graph\n",
        "sns.set_theme()\n",
        "times_data = pd.DataFrame({\"Dim\":dims, \"NumPy\":numpy_times, \"PyTorch\":torch_times, \"TensorFlow\":tf_times, \"JAX\":jax_times})\n",
        "sns.lineplot(data=times_data, x=\"Dim\", y=\"NumPy\", label=\"NumPy\")\n",
        "sns.lineplot(data=times_data, x=\"Dim\", y=\"PyTorch\", label=\"PyTorch\")\n",
        "sns.lineplot(data=times_data, x=\"Dim\", y=\"TensorFlow\", label=\"TensorFlow\")\n",
        "sns.lineplot(data=times_data, x=\"Dim\", y=\"JAX\", label=\"Jax\")\n",
        "plt.xlabel('Matrix Dimension')\n",
        "plt.ylabel('Execution Time')\n",
        "plt.title('Adjoint (CPU)')\n",
        "plt.legend()\n",
        "plt.show()"
      ],
      "metadata": {
        "colab": {
          "base_uri": "https://localhost:8080/",
          "height": 301
        },
        "id": "qgesL4V3g2Nu",
        "outputId": "4b2218a3-1070-473d-9850-9d799aef19d4"
      },
      "execution_count": 176,
      "outputs": [
        {
          "output_type": "display_data",
          "data": {
            "text/plain": [
              "<Figure size 432x288 with 1 Axes>"
            ],
            "image/png": "[encoded data removed]"
          },
          "metadata": {}
        }
      ]
    },
    {
      "cell_type": "markdown",
      "source": [
        "### Cholesky Decomposition"
      ],
      "metadata": {
        "id": "3woYF2wojiIt"
      }
    },
    {
      "cell_type": "code",
      "source": [
        "# NumPy\n",
        "numpy_times = []\n",
        "dims = [10, 50, 100, 300, 600, 1000, 2000, 3000, 4000, 5000]\n",
        "for k in dims:\n",
        "  a = np.random.rand(k, k)\n",
        "  a = np.dot(a,a.T)\n",
        "  st = time.process_time()\n",
        "  np.linalg.cholesky(a)\n",
        "  et = time.process_time()\n",
        "  res = et - st\n",
        "  numpy_times.append(res)\n",
        "  print('Execution time:', res, 'seconds')"
      ],
      "metadata": {
        "colab": {
          "base_uri": "https://localhost:8080/"
        },
        "id": "GKyJLBrXjVmt",
        "outputId": "14239b73-36e6-46c2-9331-b5ea99a0df30"
      },
      "execution_count": 177,
      "outputs": [
        {
          "output_type": "stream",
          "name": "stdout",
          "text": [
            "Execution time: 0.00018359199998485565 seconds\n",
            "Execution time: 9.802099998523772e-05 seconds\n",
            "Execution time: 0.0008716069999650244 seconds\n",
            "Execution time: 0.0031363640000563464 seconds\n",
            "Execution time: 0.016286041999990175 seconds\n",
            "Execution time: 0.06468199700003652 seconds\n",
            "Execution time: 0.3877752409999857 seconds\n",
            "Execution time: 1.1284153959999799 seconds\n",
            "Execution time: 2.273845580999989 seconds\n",
            "Execution time: 4.06610540600002 seconds\n"
          ]
        }
      ]
    },
    {
      "cell_type": "code",
      "source": [
        "# TF\n",
        "tf_times = []\n",
        "dims = [10, 50, 100, 300, 600, 1000, 2000, 3000, 4000, 5000]\n",
        "for k in dims:\n",
        "  a = tf.random.uniform((k, k))\n",
        "  a = tf.tensordot(a,tf.transpose(a), axes = 1)\n",
        "  st = time.process_time()\n",
        "  tf.linalg.cholesky(a)\n",
        "  et = time.process_time()\n",
        "  res = et - st\n",
        "  tf_times.append(res)\n",
        "  print('Execution time:', res, 'seconds')"
      ],
      "metadata": {
        "colab": {
          "base_uri": "https://localhost:8080/"
        },
        "id": "GWbcjbBckT3h",
        "outputId": "0ec6baf3-3756-4c05-f016-2800a6b9909e"
      },
      "execution_count": 178,
      "outputs": [
        {
          "output_type": "stream",
          "name": "stdout",
          "text": [
            "Execution time: 0.0005748319999838714 seconds\n",
            "Execution time: 0.0001524520000089069 seconds\n",
            "Execution time: 0.00025853699997924195 seconds\n",
            "Execution time: 0.0019558619999884286 seconds\n",
            "Execution time: 0.008627266999951644 seconds\n",
            "Execution time: 0.052506999000002 seconds\n",
            "Execution time: 0.20631356300003745 seconds\n",
            "Execution time: 0.46047253199998295 seconds\n",
            "Execution time: 0.973526674000027 seconds\n",
            "Execution time: 1.8753142840000123 seconds\n"
          ]
        }
      ]
    },
    {
      "cell_type": "code",
      "source": [
        "# PyTorch\n",
        "torch_times = []\n",
        "dims = [10, 50, 100, 300, 600, 1000, 2000, 3000, 4000, 5000]\n",
        "for k in dims:\n",
        "  a = torch.rand((k, k))\n",
        "  a = torch.mm(a,torch.t(a))\n",
        "  a.add_(torch.eye(k))\n",
        "  st = time.process_time()\n",
        "  torch.linalg.cholesky(a, upper=False, out=None)\n",
        "  et = time.process_time()\n",
        "  res = et - st\n",
        "  torch_times.append(res)\n",
        "  print('Execution time:', res, 'seconds')"
      ],
      "metadata": {
        "colab": {
          "base_uri": "https://localhost:8080/"
        },
        "id": "JAExeZtSkanZ",
        "outputId": "da46ac92-739e-4c83-d678-f8b3a2a8b0d0"
      },
      "execution_count": 179,
      "outputs": [
        {
          "output_type": "stream",
          "name": "stdout",
          "text": [
            "Execution time: 0.001012948999971286 seconds\n",
            "Execution time: 0.00017044100002294726 seconds\n",
            "Execution time: 0.00011371400000825815 seconds\n",
            "Execution time: 0.0011867509999774484 seconds\n",
            "Execution time: 0.002309335999996165 seconds\n",
            "Execution time: 0.01138055999996368 seconds\n",
            "Execution time: 0.10687139800000978 seconds\n",
            "Execution time: 0.2129764919999957 seconds\n",
            "Execution time: 0.6768124120000039 seconds\n",
            "Execution time: 1.2036978969999836 seconds\n"
          ]
        }
      ]
    },
    {
      "cell_type": "code",
      "source": [
        "# JAX\n",
        "jax_times = []\n",
        "dims = [10, 50, 100, 300, 600, 1000, 2000, 3000, 4000, 5000]\n",
        "for k in dims:\n",
        "  a = jax.random.uniform(key=key, shape=(k, k))\n",
        "  a = jnp.dot(a,jnp.transpose(a))\n",
        "  st = time.process_time()\n",
        "  jnp.linalg.cholesky(a).block_until_ready()\n",
        "  et = time.process_time()\n",
        "  res = et - st\n",
        "  jax_times.append(res)\n",
        "  print('Execution time:', res, 'seconds')"
      ],
      "metadata": {
        "colab": {
          "base_uri": "https://localhost:8080/"
        },
        "id": "T3uWodtlk30a",
        "outputId": "1e3d4174-fc13-4320-e49c-cdd36e8631f0"
      },
      "execution_count": 180,
      "outputs": [
        {
          "output_type": "stream",
          "name": "stdout",
          "text": [
            "Execution time: 0.04513957000000346 seconds\n",
            "Execution time: 0.054260083000031045 seconds\n",
            "Execution time: 0.04356734999998935 seconds\n",
            "Execution time: 0.05262288800003034 seconds\n",
            "Execution time: 0.14403737700001784 seconds\n",
            "Execution time: 0.13897553200001767 seconds\n",
            "Execution time: 0.27113331100002824 seconds\n",
            "Execution time: 0.6402918019999788 seconds\n",
            "Execution time: 1.216300145000048 seconds\n",
            "Execution time: 2.2663050200000043 seconds\n"
          ]
        }
      ]
    },
    {
      "cell_type": "code",
      "source": [
        "# Plotting graph\n",
        "sns.set_theme()\n",
        "times_data = pd.DataFrame({\"Dim\":dims, \"NumPy\":numpy_times, \"PyTorch\":torch_times, \"TensorFlow\":tf_times, \"JAX\":jax_times})\n",
        "sns.lineplot(data=times_data, x=\"Dim\", y=\"NumPy\", label=\"NumPy\")\n",
        "sns.lineplot(data=times_data, x=\"Dim\", y=\"PyTorch\", label=\"PyTorch\")\n",
        "sns.lineplot(data=times_data, x=\"Dim\", y=\"TensorFlow\", label=\"TensorFlow\")\n",
        "sns.lineplot(data=times_data, x=\"Dim\", y=\"JAX\", label=\"Jax\")\n",
        "plt.xlabel('Matrix Dimension')\n",
        "plt.ylabel('Execution Time')\n",
        "plt.title('Cholesky Decomposition (CPU)')\n",
        "plt.legend()\n",
        "plt.show()"
      ],
      "metadata": {
        "colab": {
          "base_uri": "https://localhost:8080/",
          "height": 301
        },
        "id": "Q6KndmRQlPvd",
        "outputId": "d44f620c-af97-475b-87f7-790e6e3fe056"
      },
      "execution_count": 181,
      "outputs": [
        {
          "output_type": "display_data",
          "data": {
            "text/plain": [
              "<Figure size 432x288 with 1 Axes>"
            ],
            "image/png": "[encoded data removed]"
          },
          "metadata": {}
        }
      ]
    },
    {
      "cell_type": "markdown",
      "source": [
        "### LU Decomposition"
      ],
      "metadata": {
        "id": "PfufvvZhmQ8v"
      }
    },
    {
      "cell_type": "code",
      "source": [
        "# NumPy\n",
        "# def plu(A):\n",
        "#   n = A.shape[0]\n",
        "#   U = A.copy()\n",
        "#   L = np.eye(n, dtype=np.double)\n",
        "#   P = np.eye(n, dtype=np.double)\n",
        "#   for i in range(n):\n",
        "#       for k in range(i, n): \n",
        "#           if ~np.isclose(U[i, i], 0.0):\n",
        "#               break\n",
        "#           U[[k, k+1]] = U[[k+1, k]]\n",
        "#           P[[k, k+1]] = P[[k+1, k]]\n",
        "#       factor = U[i+1:, i] / U[i, i]\n",
        "#       L[i+1:, i] = factor\n",
        "#       U[i+1:] -= factor[:, np.newaxis] * U[i]\n",
        "#   return P, L, U\n",
        "\n",
        "numpy_times = []\n",
        "dims = [10, 50, 100, 300, 600, 1000, 2000, 3000, 4000, 5000]\n",
        "for k in dims:\n",
        "  a = np.random.rand(k, k)\n",
        "  st = time.process_time()\n",
        "  P, L, U = scipy.linalg.lu(a)\n",
        "  et = time.process_time()\n",
        "  res = et - st\n",
        "  numpy_times.append(res)\n",
        "  print('Execution time:', res, 'seconds')"
      ],
      "metadata": {
        "colab": {
          "base_uri": "https://localhost:8080/"
        },
        "id": "p4ShslGkmVmm",
        "outputId": "d3094fbe-5b08-4913-a346-fcd0ba1b5ec1"
      },
      "execution_count": 4,
      "outputs": [
        {
          "output_type": "stream",
          "name": "stdout",
          "text": [
            "Execution time: 0.0009590109999999541 seconds\n",
            "Execution time: 0.002466913000000126 seconds\n",
            "Execution time: 0.0015955960000004765 seconds\n",
            "Execution time: 0.0237265760000005 seconds\n",
            "Execution time: 0.058995181999999424 seconds\n",
            "Execution time: 0.12991819500000013 seconds\n",
            "Execution time: 0.6418387660000011 seconds\n",
            "Execution time: 2.0869520129999994 seconds\n",
            "Execution time: 3.276672178 seconds\n",
            "Execution time: 6.392437162 seconds\n"
          ]
        }
      ]
    },
    {
      "cell_type": "code",
      "source": [
        "# TF\n",
        "tf_times = []\n",
        "dims = [10, 50, 100, 300, 600, 1000, 2000, 3000, 4000, 5000]\n",
        "for k in dims:\n",
        "  a = tf.random.uniform((k, k))\n",
        "  st = time.process_time()\n",
        "  tf.linalg.lu(a)\n",
        "  et = time.process_time()\n",
        "  res = et - st\n",
        "  tf_times.append(res)\n",
        "  print('Execution time:', res, 'seconds')"
      ],
      "metadata": {
        "colab": {
          "base_uri": "https://localhost:8080/"
        },
        "id": "PsNsrIyumV2h",
        "outputId": "5f130770-ab20-4c08-dd4e-a9180d968111"
      },
      "execution_count": 5,
      "outputs": [
        {
          "output_type": "stream",
          "name": "stdout",
          "text": [
            "Execution time: 0.0020348860000005686 seconds\n",
            "Execution time: 0.0014820409999991568 seconds\n",
            "Execution time: 0.001451015000000666 seconds\n",
            "Execution time: 0.0014233479999994358 seconds\n",
            "Execution time: 0.0014025470000014195 seconds\n",
            "Execution time: 0.0015182649999978537 seconds\n",
            "Execution time: 0.001373157999999819 seconds\n",
            "Execution time: 0.0015776949999981582 seconds\n",
            "Execution time: 0.001579031999998648 seconds\n",
            "Execution time: 0.0014236340000017833 seconds\n"
          ]
        }
      ]
    },
    {
      "cell_type": "code",
      "source": [
        "# PyTorch\n",
        "torch_times = []\n",
        "dims = [10, 50, 100, 300, 600, 1000, 2000, 3000, 4000, 5000]\n",
        "for k in dims:\n",
        "  a = torch.rand((k, k))\n",
        "  st = time.process_time()\n",
        "  torch.linalg.lu(a, pivot=True, out=None)\n",
        "  et = time.process_time()\n",
        "  res = et - st\n",
        "  torch_times.append(res)\n",
        "  print('Execution time:', res, 'seconds')"
      ],
      "metadata": {
        "colab": {
          "base_uri": "https://localhost:8080/"
        },
        "id": "I6013BOkmWJg",
        "outputId": "c7eb27be-2f04-4a76-c62c-39eef1a38348"
      },
      "execution_count": 6,
      "outputs": [
        {
          "output_type": "stream",
          "name": "stdout",
          "text": [
            "Execution time: 0.0009150659999974664 seconds\n",
            "Execution time: 0.000426896000000454 seconds\n",
            "Execution time: 0.0013143049999975176 seconds\n",
            "Execution time: 0.003119448999999719 seconds\n",
            "Execution time: 0.01222004799999965 seconds\n",
            "Execution time: 0.04618684500000114 seconds\n",
            "Execution time: 0.21277919199999928 seconds\n",
            "Execution time: 0.6193066000000016 seconds\n",
            "Execution time: 1.3695112410000014 seconds\n",
            "Execution time: 2.524644213000002 seconds\n"
          ]
        }
      ]
    },
    {
      "cell_type": "code",
      "source": [
        "# JAX\n",
        "jax_times = []\n",
        "dims = [10, 50, 100, 300, 600, 1000, 2000, 3000, 4000, 5000]\n",
        "for k in dims:\n",
        "  a = jax.random.uniform(key=key, shape=(k, k))\n",
        "  st = time.process_time()\n",
        "  jax.lax.linalg.lu(a)\n",
        "  et = time.process_time()\n",
        "  res = et - st\n",
        "  jax_times.append(res)\n",
        "  print('Execution time:', res, 'seconds')"
      ],
      "metadata": {
        "colab": {
          "base_uri": "https://localhost:8080/"
        },
        "id": "9KMWHRDWmWX4",
        "outputId": "ba99c7a3-02f7-4f55-d817-3c90104bffe5"
      },
      "execution_count": 7,
      "outputs": [
        {
          "output_type": "stream",
          "name": "stdout",
          "text": [
            "Execution time: 0.13589373999999665 seconds\n",
            "Execution time: 0.13729713600000082 seconds\n",
            "Execution time: 0.13887445100000306 seconds\n",
            "Execution time: 0.17058395600000154 seconds\n",
            "Execution time: 0.19079838300000063 seconds\n",
            "Execution time: 0.1645854809999996 seconds\n",
            "Execution time: 0.38178423600000144 seconds\n",
            "Execution time: 1.0144365379999982 seconds\n",
            "Execution time: 2.0771894650000036 seconds\n",
            "Execution time: 3.636666232000003 seconds\n"
          ]
        }
      ]
    },
    {
      "cell_type": "code",
      "source": [
        "# Plotting graph\n",
        "sns.set_theme()\n",
        "times_data = pd.DataFrame({\"Dim\":dims, \"NumPy\":numpy_times, \"PyTorch\":torch_times, \"TensorFlow\":tf_times, \"JAX\":jax_times})\n",
        "sns.lineplot(data=times_data, x=\"Dim\", y=\"NumPy\", label=\"NumPy\")\n",
        "sns.lineplot(data=times_data, x=\"Dim\", y=\"PyTorch\", label=\"PyTorch\")\n",
        "sns.lineplot(data=times_data, x=\"Dim\", y=\"TensorFlow\", label=\"TensorFlow\")\n",
        "sns.lineplot(data=times_data, x=\"Dim\", y=\"JAX\", label=\"Jax\")\n",
        "plt.xlabel('Matrix Dimension')\n",
        "plt.ylabel('Execution Time')\n",
        "plt.title('LU Decomposition (CPU)')\n",
        "plt.legend()\n",
        "plt.show()"
      ],
      "metadata": {
        "colab": {
          "base_uri": "https://localhost:8080/",
          "height": 301
        },
        "id": "bBO7atvPmWp8",
        "outputId": "81af2912-81f9-4f83-fb10-c4d3042c0894"
      },
      "execution_count": 194,
      "outputs": [
        {
          "output_type": "display_data",
          "data": {
            "text/plain": [
              "<Figure size 432x288 with 1 Axes>"
            ],
            "image/png": "[encoded data removed]"
          },
          "metadata": {}
        }
      ]
    },
    {
      "cell_type": "markdown",
      "source": [
        "### QR Factorization"
      ],
      "metadata": {
        "id": "l5-r8JrcpLNz"
      }
    },
    {
      "cell_type": "code",
      "source": [
        "# NumPy\n",
        "numpy_times = []\n",
        "dims = [10, 50, 100, 300, 600, 1000, 2000, 3000, 4000, 5000]\n",
        "for k in dims:\n",
        "  a = np.random.rand(k, k)\n",
        "  st = time.process_time()\n",
        "  np.linalg.qr(a)\n",
        "  et = time.process_time()\n",
        "  res = et - st\n",
        "  numpy_times.append(res)\n",
        "  print('Execution time:', res, 'seconds')"
      ],
      "metadata": {
        "colab": {
          "base_uri": "https://localhost:8080/"
        },
        "id": "igOJXyG7pjr4",
        "outputId": "a055bc67-d4ad-486b-c4f1-29e6ad282b96"
      },
      "execution_count": 195,
      "outputs": [
        {
          "output_type": "stream",
          "name": "stdout",
          "text": [
            "Execution time: 0.0017497780000894636 seconds\n",
            "Execution time: 0.00045130400008019933 seconds\n",
            "Execution time: 0.007613859000002776 seconds\n",
            "Execution time: 0.03730245500003093 seconds\n",
            "Execution time: 0.14407179800002723 seconds\n",
            "Execution time: 0.5101557930000808 seconds\n",
            "Execution time: 3.0567665319999833 seconds\n",
            "Execution time: 9.324027354999998 seconds\n",
            "Execution time: 20.69382353000003 seconds\n",
            "Execution time: 35.94159722200004 seconds\n"
          ]
        }
      ]
    },
    {
      "cell_type": "code",
      "source": [
        "# TF\n",
        "tf_times = []\n",
        "dims = [10, 50, 100, 300, 600, 1000, 2000, 3000, 4000, 5000]\n",
        "for k in dims:\n",
        "  a = tf.random.uniform((k, k))\n",
        "  st = time.process_time()\n",
        "  tf.linalg.qr(a)\n",
        "  et = time.process_time()\n",
        "  res = et - st\n",
        "  tf_times.append(res)\n",
        "  print('Execution time:', res, 'seconds')"
      ],
      "metadata": {
        "colab": {
          "base_uri": "https://localhost:8080/"
        },
        "id": "Jv1q4yNPpkO4",
        "outputId": "34c8f37c-0475-44f4-c921-d25659dd35b5"
      },
      "execution_count": 196,
      "outputs": [
        {
          "output_type": "stream",
          "name": "stdout",
          "text": [
            "Execution time: 0.0019034530000681116 seconds\n",
            "Execution time: 0.0006902899999658985 seconds\n",
            "Execution time: 0.0008035040000322624 seconds\n",
            "Execution time: 0.0067402119999542265 seconds\n",
            "Execution time: 0.037690621000024294 seconds\n",
            "Execution time: 0.17941949700002624 seconds\n",
            "Execution time: 1.3805865929999754 seconds\n",
            "Execution time: 4.246237150999946 seconds\n",
            "Execution time: 9.69471199499992 seconds\n",
            "Execution time: 24.731574682999963 seconds\n"
          ]
        }
      ]
    },
    {
      "cell_type": "code",
      "source": [
        "# PyTorch\n",
        "torch_times = []\n",
        "dims = [10, 50, 100, 300, 600, 1000, 2000, 3000, 4000, 5000]\n",
        "for k in dims:\n",
        "  a = torch.rand((k, k))\n",
        "  st = time.process_time()\n",
        "  torch.linalg.qr(a, mode='reduced', out=None)\n",
        "  et = time.process_time()\n",
        "  res = et - st\n",
        "  torch_times.append(res)\n",
        "  print('Execution time:', res, 'seconds')"
      ],
      "metadata": {
        "colab": {
          "base_uri": "https://localhost:8080/"
        },
        "id": "s0q5TFxgpk8H",
        "outputId": "cf070cc4-d5a7-4c16-c4b3-b6516eed5a0e"
      },
      "execution_count": 197,
      "outputs": [
        {
          "output_type": "stream",
          "name": "stdout",
          "text": [
            "Execution time: 0.0017665739999301877 seconds\n",
            "Execution time: 0.002105606999975862 seconds\n",
            "Execution time: 0.002599431000021468 seconds\n",
            "Execution time: 0.008076786000060565 seconds\n",
            "Execution time: 0.02526124299993171 seconds\n",
            "Execution time: 0.10012497699995038 seconds\n",
            "Execution time: 0.7588412129999824 seconds\n",
            "Execution time: 2.4690529030000334 seconds\n",
            "Execution time: 3.846496671000068 seconds\n",
            "Execution time: 9.240842517000033 seconds\n"
          ]
        }
      ]
    },
    {
      "cell_type": "code",
      "source": [
        "# JAX\n",
        "jax_times = []\n",
        "dims = [10, 50, 100, 300, 600, 1000, 2000, 3000, 4000, 5000]\n",
        "for k in dims:\n",
        "  a = jax.random.uniform(key=key, shape=(k, k))\n",
        "  st = time.process_time()\n",
        "  jnp.linalg.qr(a, mode='reduced')\n",
        "  et = time.process_time()\n",
        "  res = et - st\n",
        "  jax_times.append(res)\n",
        "  print('Execution time:', res, 'seconds')"
      ],
      "metadata": {
        "colab": {
          "base_uri": "https://localhost:8080/"
        },
        "id": "vV-4ZUB7pl_T",
        "outputId": "530dfd18-1c8e-4896-9e6a-6e94a7b9f7f9"
      },
      "execution_count": 198,
      "outputs": [
        {
          "output_type": "stream",
          "name": "stdout",
          "text": [
            "Execution time: 0.07058084799996323 seconds\n",
            "Execution time: 0.06979977399998916 seconds\n",
            "Execution time: 0.07727386299995942 seconds\n",
            "Execution time: 0.1924921339999628 seconds\n",
            "Execution time: 0.26858452600004057 seconds\n",
            "Execution time: 0.4192313890000605 seconds\n",
            "Execution time: 1.743932147999999 seconds\n",
            "Execution time: 5.327392936000024 seconds\n",
            "Execution time: 9.358258084999989 seconds\n",
            "Execution time: 22.794230148999986 seconds\n"
          ]
        }
      ]
    },
    {
      "cell_type": "code",
      "source": [
        "# Plotting graph\n",
        "sns.set_theme()\n",
        "times_data = pd.DataFrame({\"Dim\":dims, \"NumPy\":numpy_times, \"PyTorch\":torch_times, \"TensorFlow\":tf_times, \"JAX\":jax_times})\n",
        "sns.lineplot(data=times_data, x=\"Dim\", y=\"NumPy\", label=\"NumPy\")\n",
        "sns.lineplot(data=times_data, x=\"Dim\", y=\"PyTorch\", label=\"PyTorch\")\n",
        "sns.lineplot(data=times_data, x=\"Dim\", y=\"TensorFlow\", label=\"TensorFlow\")\n",
        "sns.lineplot(data=times_data, x=\"Dim\", y=\"JAX\", label=\"Jax\")\n",
        "plt.xlabel('Matrix Dimension')\n",
        "plt.ylabel('Execution Time')\n",
        "plt.title('QR factorization (CPU)')\n",
        "plt.legend()\n",
        "plt.show()"
      ],
      "metadata": {
        "colab": {
          "base_uri": "https://localhost:8080/",
          "height": 301
        },
        "id": "UOK4kJgepmju",
        "outputId": "bb81060e-2182-4660-8c82-c14437bb47b1"
      },
      "execution_count": 199,
      "outputs": [
        {
          "output_type": "display_data",
          "data": {
            "text/plain": [
              "<Figure size 432x288 with 1 Axes>"
            ],
            "image/png": "[encoded data removed]"
          },
          "metadata": {}
        }
      ]
    },
    {
      "cell_type": "markdown",
      "source": [
        "### Eigen Decomposition"
      ],
      "metadata": {
        "id": "nnpftsIese5Z"
      }
    },
    {
      "cell_type": "code",
      "source": [
        "# NumPy\n",
        "numpy_times = []\n",
        "dims = [10, 50, 100, 300, 600, 1000] #, 2000, 3000] # 4000, 5000]\n",
        "for k in dims:\n",
        "  a = np.random.rand(k, k)\n",
        "  st = time.process_time()\n",
        "  np.linalg.eig(a)\n",
        "  et = time.process_time()\n",
        "  res = et - st\n",
        "  numpy_times.append(res)\n",
        "  print('Execution time:', res, 'seconds')"
      ],
      "metadata": {
        "colab": {
          "base_uri": "https://localhost:8080/"
        },
        "id": "Ip_rFi5csiny",
        "outputId": "cec8796f-37f8-42a6-cd11-60e71c14ff3e"
      },
      "execution_count": 3,
      "outputs": [
        {
          "output_type": "stream",
          "name": "stdout",
          "text": [
            "Execution time: 0.002205881000000076 seconds\n",
            "Execution time: 0.0025017100000006565 seconds\n",
            "Execution time: 0.031016064999999315 seconds\n",
            "Execution time: 0.28419512800000035 seconds\n",
            "Execution time: 1.5732075610000003 seconds\n",
            "Execution time: 4.565596911 seconds\n"
          ]
        }
      ]
    },
    {
      "cell_type": "code",
      "source": [
        "# TF\n",
        "tf_times = []\n",
        "dims = [10, 50, 100, 300, 600, 1000]# 2000, 3000] # 4000, 5000]\n",
        "for k in dims:\n",
        "  a = tf.random.uniform((k, k))\n",
        "  st = time.process_time()\n",
        "  tf.linalg.eig(a)\n",
        "  et = time.process_time()\n",
        "  res = et - st\n",
        "  tf_times.append(res)\n",
        "  print('Execution time:', res, 'seconds')"
      ],
      "metadata": {
        "colab": {
          "base_uri": "https://localhost:8080/"
        },
        "id": "VJgH7aetsjCy",
        "outputId": "1154477a-158d-4cd4-e91b-5b9a47566f78"
      },
      "execution_count": 4,
      "outputs": [
        {
          "output_type": "stream",
          "name": "stdout",
          "text": [
            "Execution time: 0.001284648000000388 seconds\n",
            "Execution time: 0.0016294509999994489 seconds\n",
            "Execution time: 0.010044515000000587 seconds\n",
            "Execution time: 0.22862782800000048 seconds\n",
            "Execution time: 2.9844688589999997 seconds\n",
            "Execution time: 13.675327307 seconds\n"
          ]
        }
      ]
    },
    {
      "cell_type": "code",
      "source": [
        "# PyTorch\n",
        "torch_times = []\n",
        "dims = [10, 50, 100, 300, 600, 1000] #, 2000, 3000] # 4000, 5000]\n",
        "for k in dims:\n",
        "  a = torch.rand((k, k))\n",
        "  st = time.process_time()\n",
        "  torch.linalg.eig(a, out=None)\n",
        "  et = time.process_time()\n",
        "  res = et - st\n",
        "  torch_times.append(res)\n",
        "  print('Execution time:', res, 'seconds')"
      ],
      "metadata": {
        "colab": {
          "base_uri": "https://localhost:8080/"
        },
        "id": "f67mJiMLsjQw",
        "outputId": "ee1a46ef-2641-4b75-a939-81515d262c84"
      },
      "execution_count": 5,
      "outputs": [
        {
          "output_type": "stream",
          "name": "stdout",
          "text": [
            "Execution time: 0.0016968660000031832 seconds\n",
            "Execution time: 0.002269696999995574 seconds\n",
            "Execution time: 0.010462881000002255 seconds\n",
            "Execution time: 0.09305261599999426 seconds\n",
            "Execution time: 0.46915173099999663 seconds\n",
            "Execution time: 1.2646478610000003 seconds\n"
          ]
        }
      ]
    },
    {
      "cell_type": "code",
      "source": [
        "# JAX\n",
        "jax_times = []\n",
        "dims = [10, 50, 100, 300, 600, 1000] #, 2000, 3000] # 4000, 5000]\n",
        "for k in dims:\n",
        "  a = jax.random.uniform(key=key, shape=(k, k))\n",
        "  st = time.process_time()\n",
        "  jnp.linalg.eig(a)\n",
        "  et = time.process_time()\n",
        "  res = et - st\n",
        "  jax_times.append(res)\n",
        "  print('Execution time:', res, 'seconds')"
      ],
      "metadata": {
        "colab": {
          "base_uri": "https://localhost:8080/"
        },
        "id": "afd6zn7ZsjeW",
        "outputId": "43a2e4da-2277-40a9-e9f8-98a9e3392adf"
      },
      "execution_count": 9,
      "outputs": [
        {
          "output_type": "stream",
          "name": "stdout",
          "text": [
            "Execution time: 0.0006929500000012467 seconds\n",
            "Execution time: 0.0021365700000046672 seconds\n",
            "Execution time: 0.0254716999999971 seconds\n",
            "Execution time: 0.19113229900000306 seconds\n",
            "Execution time: 0.9883932190000024 seconds\n",
            "Execution time: 2.9667272330000003 seconds\n"
          ]
        }
      ]
    },
    {
      "cell_type": "code",
      "source": [
        "# Plotting graph\n",
        "sns.set_theme()\n",
        "times_data = pd.DataFrame({\"Dim\":dims, \"NumPy\":numpy_times, \"PyTorch\":torch_times, \"TensorFlow\":tf_times, \"JAX\":jax_times})\n",
        "sns.lineplot(data=times_data, x=\"Dim\", y=\"NumPy\", label=\"NumPy\")\n",
        "sns.lineplot(data=times_data, x=\"Dim\", y=\"PyTorch\", label=\"PyTorch\")\n",
        "sns.lineplot(data=times_data, x=\"Dim\", y=\"TensorFlow\", label=\"TensorFlow\")\n",
        "sns.lineplot(data=times_data, x=\"Dim\", y=\"JAX\", label=\"Jax\")\n",
        "plt.xlabel('Matrix Dimension')\n",
        "plt.ylabel('Execution Time')\n",
        "plt.title('Eigen Decomposition (CPU)')\n",
        "plt.legend()\n",
        "plt.show()"
      ],
      "metadata": {
        "colab": {
          "base_uri": "https://localhost:8080/",
          "height": 301
        },
        "id": "Uyn4jFBNsj2j",
        "outputId": "0290f9ad-5dfd-4133-a87d-72f37d4d64ea"
      },
      "execution_count": 10,
      "outputs": [
        {
          "output_type": "display_data",
          "data": {
            "text/plain": [
              "<Figure size 432x288 with 1 Axes>"
            ],
            "image/png": "[encoded data removed]"
          },
          "metadata": {}
        }
      ]
    },
    {
      "cell_type": "markdown",
      "source": [
        "### PCA"
      ],
      "metadata": {
        "id": "jnKEKrpjvAj7"
      }
    },
    {
      "cell_type": "code",
      "source": [
        "# NumPy\n",
        "numpy_times = []\n",
        "dims = [10, 50, 100, 300, 600, 1000, 2000, 3000] # 4000, 5000]\n",
        "for k in dims:\n",
        "  x = np.random.rand(k, k)\n",
        "  st = time.process_time()\n",
        "  x = x - x.mean(axis = 0)\n",
        "  cov = np.cov(x.T) / x.shape[0]\n",
        "  v, w = np.linalg.eig(cov)\n",
        "  et = time.process_time()\n",
        "  res = et - st\n",
        "  numpy_times.append(res)\n",
        "  print('Execution time:', res, 'seconds')"
      ],
      "metadata": {
        "colab": {
          "base_uri": "https://localhost:8080/"
        },
        "id": "pdvow8-BvCJX",
        "outputId": "465575af-37d4-45aa-85e8-cb5efab8465c"
      },
      "execution_count": 21,
      "outputs": [
        {
          "output_type": "stream",
          "name": "stdout",
          "text": [
            "Execution time: 0.0007210720000045967 seconds\n",
            "Execution time: 0.0023283900000024005 seconds\n",
            "Execution time: 0.01588394899999912 seconds\n",
            "Execution time: 0.27996784100000127 seconds\n",
            "Execution time: 1.2728116010000008 seconds\n",
            "Execution time: 3.646075737999979 seconds\n",
            "Execution time: 21.21910943200001 seconds\n",
            "Execution time: 59.74902223099997 seconds\n"
          ]
        }
      ]
    },
    {
      "cell_type": "code",
      "source": [
        "# PyTorch\n",
        "torch_times = []\n",
        "dims = [10, 50, 100, 300, 600, 1000, 2000, 3000] # 4000, 5000]\n",
        "for k in dims:\n",
        "  x = torch.rand(k, k)\n",
        "  st = time.process_time()\n",
        "  x = x - x.mean(axis = 0)\n",
        "  cov = torch.cov(x.T) / x.shape[0]\n",
        "  v, w = torch.linalg.eig(cov)\n",
        "  et = time.process_time()\n",
        "  res = et - st\n",
        "  torch_times.append(res)\n",
        "  print('Execution time:', res, 'seconds')"
      ],
      "metadata": {
        "colab": {
          "base_uri": "https://localhost:8080/"
        },
        "id": "SxfE_HD1vCms",
        "outputId": "f87d3c21-9fd1-42b2-8a2e-e2cb5f5ea881"
      },
      "execution_count": 22,
      "outputs": [
        {
          "output_type": "stream",
          "name": "stdout",
          "text": [
            "Execution time: 0.0040772570000058295 seconds\n",
            "Execution time: 0.0012598749999597203 seconds\n",
            "Execution time: 0.003933487000040259 seconds\n",
            "Execution time: 0.08369238699998505 seconds\n",
            "Execution time: 0.3821784279999747 seconds\n",
            "Execution time: 1.381375695000031 seconds\n",
            "Execution time: 11.622664127999997 seconds\n",
            "Execution time: 41.33261728299999 seconds\n"
          ]
        }
      ]
    },
    {
      "cell_type": "code",
      "source": [
        "# TF\n",
        "tf_times = []\n",
        "dims = [10, 50, 100, 300, 600, 1000, 2000, 3000] # 4000, 5000]\n",
        "for k in dims:\n",
        "  x = tf.random.uniform((k, k))\n",
        "  st = time.process_time()\n",
        "  x = x - tf.reduce_mean(x, axis=0)\n",
        "  ans = tf.linalg.eigh(tf.tensordot(tf.transpose(x), x, axes=1))\n",
        "  et = time.process_time()\n",
        "  res = et - st\n",
        "  tf_times.append(res)\n",
        "  print('Execution time:', res, 'seconds')"
      ],
      "metadata": {
        "colab": {
          "base_uri": "https://localhost:8080/"
        },
        "id": "d16LhEjQvC1t",
        "outputId": "b545352c-d947-4508-9fd8-8744aa846fcc"
      },
      "execution_count": 26,
      "outputs": [
        {
          "output_type": "stream",
          "name": "stdout",
          "text": [
            "Execution time: 0.0033278090000408156 seconds\n",
            "Execution time: 0.0023715810000339843 seconds\n",
            "Execution time: 0.004282706000026337 seconds\n",
            "Execution time: 0.06541146200004277 seconds\n",
            "Execution time: 0.45384059099995966 seconds\n",
            "Execution time: 2.1470161839999946 seconds\n",
            "Execution time: 16.214178497000034 seconds\n",
            "Execution time: 37.082383186000015 seconds\n"
          ]
        }
      ]
    },
    {
      "cell_type": "code",
      "source": [
        "# JAX\n",
        "jax_times = []\n",
        "dims = [10, 50, 100, 300, 600, 1000, 2000, 3000] # 4000, 5000]\n",
        "for k in dims:\n",
        "  x = jax.random.uniform(key, shape=(k,k)) \n",
        "  st = time.process_time()\n",
        "  x = x - x.mean(axis = 0)\n",
        "  cov = jnp.cov(x.T) / x.shape[0]\n",
        "  v, w = jnp.linalg.eig(cov)\n",
        "  et = time.process_time()\n",
        "  res = et - st\n",
        "  jax_times.append(res)\n",
        "  print('Execution time:', res, 'seconds')"
      ],
      "metadata": {
        "colab": {
          "base_uri": "https://localhost:8080/"
        },
        "id": "dwq1hTqVvDC3",
        "outputId": "087449ff-f9e7-47ab-8102-464b09d72eec"
      },
      "execution_count": 24,
      "outputs": [
        {
          "output_type": "stream",
          "name": "stdout",
          "text": [
            "Execution time: 0.000896407000027466 seconds\n",
            "Execution time: 0.0015803949999622091 seconds\n",
            "Execution time: 0.015164044000016474 seconds\n",
            "Execution time: 0.13760063000000855 seconds\n",
            "Execution time: 0.836645548999968 seconds\n",
            "Execution time: 2.628469671000005 seconds\n",
            "Execution time: 16.760766896000007 seconds\n",
            "Execution time: 50.881167885000025 seconds\n"
          ]
        }
      ]
    },
    {
      "cell_type": "code",
      "source": [
        "# Plotting graph\n",
        "sns.set_theme()\n",
        "times_data = pd.DataFrame({\"Dim\":dims, \"NumPy\":numpy_times, \"PyTorch\":torch_times, \"TensorFlow\":tf_times, \"JAX\":jax_times})\n",
        "sns.lineplot(data=times_data, x=\"Dim\", y=\"NumPy\", label=\"NumPy\")\n",
        "sns.lineplot(data=times_data, x=\"Dim\", y=\"PyTorch\", label=\"PyTorch\")\n",
        "sns.lineplot(data=times_data, x=\"Dim\", y=\"TensorFlow\", label=\"TensorFlow\")\n",
        "sns.lineplot(data=times_data, x=\"Dim\", y=\"JAX\", label=\"Jax\")\n",
        "plt.xlabel('Matrix Dimension')\n",
        "plt.ylabel('Execution Time')\n",
        "plt.title('PCA (CPU)')\n",
        "plt.legend()\n",
        "plt.show()"
      ],
      "metadata": {
        "colab": {
          "base_uri": "https://localhost:8080/",
          "height": 301
        },
        "id": "1CC9OEPEwP-b",
        "outputId": "2c576912-dc7d-4feb-dc68-1b61956bfae0"
      },
      "execution_count": 27,
      "outputs": [
        {
          "output_type": "display_data",
          "data": {
            "text/plain": [
              "<Figure size 432x288 with 1 Axes>"
            ],
            "image/png": "[encoded data removed]"
          },
          "metadata": {}
        }
      ]
    },
    {
      "cell_type": "markdown",
      "source": [
        "### SVD"
      ],
      "metadata": {
        "id": "fTKzcv3EvDln"
      }
    },
    {
      "cell_type": "code",
      "source": [
        "# NumPy\n",
        "numpy_times = []\n",
        "dims = [10, 50, 100, 300, 600, 1000, 2000, 3000] # 4000, 5000]\n",
        "for k in dims:\n",
        "  x = np.random.rand(k, k)\n",
        "  st = time.process_time()\n",
        "  svd = np.linalg.svd(x)\n",
        "  et = time.process_time()\n",
        "  res = et - st\n",
        "  numpy_times.append(res)\n",
        "  print('Execution time:', res, 'seconds')"
      ],
      "metadata": {
        "colab": {
          "base_uri": "https://localhost:8080/"
        },
        "id": "B3dL8Ha4vG2f",
        "outputId": "c37ca246-6b31-49fc-f6a5-6a05946cdaa4"
      },
      "execution_count": 7,
      "outputs": [
        {
          "output_type": "stream",
          "name": "stdout",
          "text": [
            "Execution time: 0.0003903569999987866 seconds\n",
            "Execution time: 0.005897818000001109 seconds\n",
            "Execution time: 0.006904433000000765 seconds\n",
            "Execution time: 0.10819080500000133 seconds\n",
            "Execution time: 0.6328129610000008 seconds\n",
            "Execution time: 2.0616325699999987 seconds\n",
            "Execution time: 15.450890138999998 seconds\n",
            "Execution time: 46.21528739600001 seconds\n"
          ]
        }
      ]
    },
    {
      "cell_type": "code",
      "source": [
        "# PyTorch\n",
        "torch_times = []\n",
        "dims = [10, 50, 100, 300, 600, 1000, 2000, 3000] # 4000, 5000]\n",
        "for k in dims:\n",
        "  x = torch.rand(k, k)\n",
        "  st = time.process_time()\n",
        "  svd = torch.svd(x)\n",
        "  et = time.process_time()\n",
        "  res = et - st\n",
        "  torch_times.append(res)\n",
        "  print('Execution time:', res, 'seconds')"
      ],
      "metadata": {
        "colab": {
          "base_uri": "https://localhost:8080/"
        },
        "id": "rl0d6nKnvF0i",
        "outputId": "0dc9c4f8-5762-481c-d5b1-4e595e2de08b"
      },
      "execution_count": 11,
      "outputs": [
        {
          "output_type": "stream",
          "name": "stdout",
          "text": [
            "Execution time: 0.00028572400000825837 seconds\n",
            "Execution time: 0.0012653400000033344 seconds\n",
            "Execution time: 0.004375046999996357 seconds\n",
            "Execution time: 0.022257491000004848 seconds\n",
            "Execution time: 0.14800965300000257 seconds\n",
            "Execution time: 0.5112300350000112 seconds\n",
            "Execution time: 3.5738527540000007 seconds\n",
            "Execution time: 11.125185885999997 seconds\n"
          ]
        }
      ]
    },
    {
      "cell_type": "code",
      "source": [
        "# TF\n",
        "tf_times = []\n",
        "dims = [10, 50, 100, 300, 600, 1000, 2000, 3000] # 4000, 5000]\n",
        "for k in dims:\n",
        "  with tf.GradientTape() as g:\n",
        "    x = tf.random.uniform((k, k))\n",
        "    st = time.process_time()\n",
        "    svd = tf.linalg.svd(x)\n",
        "    et = time.process_time()\n",
        "    res = et - st\n",
        "    tf_times.append(res)\n",
        "    print('Execution time:', res, 'seconds')"
      ],
      "metadata": {
        "colab": {
          "base_uri": "https://localhost:8080/"
        },
        "id": "6jQaPWc0vHUX",
        "outputId": "d6a3f6fa-d256-4a98-a33a-fd59b093f83a"
      },
      "execution_count": 9,
      "outputs": [
        {
          "output_type": "stream",
          "name": "stdout",
          "text": [
            "Execution time: 0.00045647200001042165 seconds\n",
            "Execution time: 0.002520105000002104 seconds\n",
            "Execution time: 0.0034879779999954508 seconds\n",
            "Execution time: 0.029628203000001463 seconds\n",
            "Execution time: 0.24877620299999137 seconds\n",
            "Execution time: 0.7129772700000103 seconds\n",
            "Execution time: 4.755138821999992 seconds\n",
            "Execution time: 15.965415745000001 seconds\n"
          ]
        }
      ]
    },
    {
      "cell_type": "code",
      "source": [
        "# JAX\n",
        "jax_times = []\n",
        "dims = [10, 50, 100, 300, 600, 1000, 2000, 3000] # 4000, 5000]\n",
        "for k in dims:\n",
        "  x = jax.random.uniform(key, shape=(k,k))\n",
        "  st = time.process_time()\n",
        "  svd = jnp.linalg.svd(x)\n",
        "  et = time.process_time()\n",
        "  res = et - st\n",
        "  jax_times.append(res)\n",
        "  print('Execution time:', res, 'seconds')"
      ],
      "metadata": {
        "colab": {
          "base_uri": "https://localhost:8080/"
        },
        "id": "2lk8pL2mvHnO",
        "outputId": "a08a1693-a149-4a0d-84b1-dd1ea6a146e0"
      },
      "execution_count": 10,
      "outputs": [
        {
          "output_type": "stream",
          "name": "stdout",
          "text": [
            "Execution time: 0.03352295199999844 seconds\n",
            "Execution time: 0.060356243000001086 seconds\n",
            "Execution time: 0.053855403000000024 seconds\n",
            "Execution time: 1.1441389530000095 seconds\n",
            "Execution time: 2.6853986609999936 seconds\n",
            "Execution time: 1.1550757020000049 seconds\n",
            "Execution time: 6.948822256 seconds\n",
            "Execution time: 24.600036256999985 seconds\n"
          ]
        }
      ]
    },
    {
      "cell_type": "code",
      "source": [
        "# Plotting graph\n",
        "sns.set_theme()\n",
        "times_data = pd.DataFrame({\"Dim\":dims, \"NumPy\":numpy_times, \"PyTorch\":torch_times, \"TensorFlow\":tf_times, \"JAX\":jax_times})\n",
        "sns.lineplot(data=times_data, x=\"Dim\", y=\"NumPy\", label=\"NumPy\")\n",
        "sns.lineplot(data=times_data, x=\"Dim\", y=\"PyTorch\", label=\"PyTorch\")\n",
        "sns.lineplot(data=times_data, x=\"Dim\", y=\"TensorFlow\", label=\"TensorFlow\")\n",
        "sns.lineplot(data=times_data, x=\"Dim\", y=\"JAX\", label=\"Jax\")\n",
        "plt.xlabel('Matrix Dimension')\n",
        "plt.ylabel('Execution Time')\n",
        "plt.title('SVD (CPU)')\n",
        "plt.legend()\n",
        "plt.show()"
      ],
      "metadata": {
        "colab": {
          "base_uri": "https://localhost:8080/",
          "height": 301
        },
        "id": "OjQkJEZ1w5MP",
        "outputId": "2c93f9c3-535a-484e-938d-817096e9c2f2"
      },
      "execution_count": 12,
      "outputs": [
        {
          "output_type": "display_data",
          "data": {
            "text/plain": [
              "<Figure size 432x288 with 1 Axes>"
            ],
            "image/png": "[encoded data removed]"
          },
          "metadata": {}
        }
      ]
    }
  ]
}